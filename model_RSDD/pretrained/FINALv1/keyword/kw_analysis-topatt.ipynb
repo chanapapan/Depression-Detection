{
 "cells": [
  {
   "cell_type": "markdown",
   "id": "af4e6218-6620-49ab-befe-1fd78b65838b",
   "metadata": {},
   "source": [
    "# Check what the Proposed method mask"
   ]
  },
  {
   "cell_type": "code",
   "execution_count": 1,
   "id": "8b7af3a8-8865-4c02-bfba-280e629f4171",
   "metadata": {},
   "outputs": [
    {
     "name": "stdout",
     "output_type": "stream",
     "text": [
      "device cuda:0\n"
     ]
    }
   ],
   "source": [
    "from torch.utils.tensorboard import SummaryWriter\n",
    "from transformers import AutoModelForTokenClassification\n",
    "from torch.utils.data import DataLoader\n",
    "from IPython.display import clear_output\n",
    "import torch.nn as nn\n",
    "import copy\n",
    "import sys, os\n",
    "sys.path.append('..')\n",
    "\n",
    "os.environ['TRANSFORMERS_CACHE'] = './cache/'\n",
    "os.environ['CUDA_LAUNCH_BLOCKING'] = '1'\n",
    "\n",
    "from src.dataset import *\n",
    "from src.utils   import *\n",
    "from src.traineval  import *\n",
    "\n",
    "SEED = 42\n",
    "torch.manual_seed(SEED)\n",
    "torch.backends.cudnn.deterministic = True\n",
    "\n",
    "device = get_freer_gpu()\n",
    "print('device', device)"
   ]
  },
  {
   "cell_type": "code",
   "execution_count": null,
   "id": "9efc8694-92eb-4635-9afe-f795e530ee93",
   "metadata": {},
   "outputs": [],
   "source": [
    "train_dataset = pickle.load(open(f'../data/domain/domainchunk-R10-test-ds.pkl', \"rb\"))\n",
    "\n",
    "for sample in train_dataset:\n",
    "    print(sample['input_ids'])\n",
    "    print(sample['word_ids'])\n",
    "    print(sample['attention_mask'])\n",
    "    print(sample['orig_text'])\n",
    "    print(sample['labels'])\n",
    "    break"
   ]
  },
  {
   "cell_type": "code",
   "execution_count": 3,
   "id": "ed4a0e9c-f5f8-488c-888e-f1598deb4405",
   "metadata": {},
   "outputs": [],
   "source": [
    "batch_size = 32\n",
    "\n",
    "# can shuffle now because we use the model to do inference on any sample\n",
    "train_loader = DataLoader(train_dataset, batch_size = batch_size, shuffle = True)"
   ]
  },
  {
   "cell_type": "code",
   "execution_count": 4,
   "id": "bc313dbb-e50f-4b35-82de-296548277576",
   "metadata": {},
   "outputs": [
    {
     "name": "stderr",
     "output_type": "stream",
     "text": [
      "Some weights of the model checkpoint at bert-base-uncased were not used when initializing BertForTokenClassification: ['cls.seq_relationship.weight', 'cls.predictions.transform.LayerNorm.bias', 'cls.predictions.transform.dense.bias', 'cls.predictions.transform.dense.weight', 'cls.predictions.bias', 'cls.predictions.transform.LayerNorm.weight', 'cls.seq_relationship.bias', 'cls.predictions.decoder.weight']\n",
      "- This IS expected if you are initializing BertForTokenClassification from the checkpoint of a model trained on another task or with another architecture (e.g. initializing a BertForSequenceClassification model from a BertForPreTraining model).\n",
      "- This IS NOT expected if you are initializing BertForTokenClassification from the checkpoint of a model that you expect to be exactly identical (initializing a BertForSequenceClassification model from a BertForSequenceClassification model).\n",
      "Some weights of BertForTokenClassification were not initialized from the model checkpoint at bert-base-uncased and are newly initialized: ['classifier.bias', 'classifier.weight']\n",
      "You should probably TRAIN this model on a down-stream task to be able to use it for predictions and inference.\n"
     ]
    },
    {
     "name": "stdout",
     "output_type": "stream",
     "text": [
      "Load model from :  ../save/PROP-classitoken/best-model-2000.tar\n",
      "<All keys matched successfully>\n"
     ]
    }
   ],
   "source": [
    "num_labels  = 2 # CE\n",
    "checkpoint = 'bert-base-uncased'\n",
    "model       = AutoModelForTokenClassification.from_pretrained(checkpoint, num_labels = num_labels).to(device)\n",
    "model.classifier.dropout = nn.Dropout(p = 0.1, inplace = False)\n",
    "\n",
    "# load model from trained model\n",
    "path = '../save/PROP-classitoken/best-model-2000.tar'\n",
    "print(\"Load model from : \", path)\n",
    "\n",
    "loaded_checkpoint = torch.load(path)\n",
    "model.load_state_dict(loaded_checkpoint['model_state_dict'])\n",
    "print(model.load_state_dict(loaded_checkpoint['model_state_dict'])) # <All keys matched successfully>\n",
    "\n",
    "model.eval()\n",
    "\n",
    "tokenizer     = BertTokenizerFast.from_pretrained(checkpoint)"
   ]
  },
  {
   "cell_type": "code",
   "execution_count": null,
   "id": "90271e5e-2904-4c4f-8e81-4400c30c53ec",
   "metadata": {},
   "outputs": [],
   "source": []
  },
  {
   "cell_type": "code",
   "execution_count": 5,
   "id": "003180bb-2461-4af1-b554-758da322ea0b",
   "metadata": {},
   "outputs": [],
   "source": [
    "class PROPMLMDataset(Dataset):\n",
    "    \n",
    "    def __init__(self, data_loader, classitoken_model, tokenizer):\n",
    "        \n",
    "        self.tokenizer = tokenizer\n",
    "        self.model_mask_id = self.tokenizer(self.tokenizer.mask_token)['input_ids'][1] \n",
    "        self.model_cls_id     = self.tokenizer(self.tokenizer.cls_token)['input_ids'][1]\n",
    "        self.model_sep_id     = self.tokenizer(self.tokenizer.sep_token)['input_ids'][1]\n",
    "        self.make_PROP_MLM_ds(data_loader, classitoken_model)\n",
    "        \n",
    "        del classitoken_model, data_loader\n",
    "        \n",
    "    def __len__(self):\n",
    "        return len(self.list_input_ids)\n",
    "\n",
    "    def __getitem__(self, idx):       \n",
    "        sample = {  'input_ids'      : self.list_input_ids[idx],\n",
    "                    'word_ids'       : self.list_word_ids[idx],\n",
    "                    'attention_mask' : self.list_attention_mask[idx],\n",
    "                    'orig_text'      : self.list_orig_text[idx],\n",
    "                    'masked_text'    : self.list_masked_text[idx],\n",
    "                    'labels'         : self.list_labels[idx]}\n",
    "        return sample\n",
    "    \n",
    "    # Use the trained model to do inference on domain dataset to creats masked domain ds\n",
    "    def make_PROP_MLM_ds(self, data_loader, model):\n",
    "        \n",
    "        self.list_input_ids      = []\n",
    "        self.list_word_ids       = []\n",
    "        self.list_attention_mask = []\n",
    "        self.list_orig_text      = []\n",
    "        self.list_masked_text    = []\n",
    "        self.list_labels         = []\n",
    "        \n",
    "        self.list_important_input_ids = []\n",
    "        # self.list_important_word_ids = []\n",
    "        # self.list_important_idx_seq = []\n",
    "        # self.list_important_idx_pos = []\n",
    "\n",
    "        for idx, batch in enumerate(data_loader):  \n",
    "            \n",
    "            sys.stdout.write(str(idx))\n",
    "            \n",
    "            input_ids = batch['input_ids'].clone().to(device)\n",
    "            att_mask  = batch['attention_mask'].clone().to(device)\n",
    "            \n",
    "            word_ids     = batch['word_ids']\n",
    "            orig_text    = batch['orig_text']\n",
    "            labels       = batch['labels']\n",
    "            \n",
    "            model.eval()\n",
    "            with torch.no_grad():\n",
    "                outputs = model(input_ids = input_ids, attention_mask = att_mask)\n",
    "            \n",
    "            pred = torch.argmax(torch.softmax(outputs.logits.detach(), dim = 2), dim = 2) # bs, seq_len\n",
    "            # print(pred.shape)\n",
    "            \n",
    "            # get index of important tokens\n",
    "            important_idx_seq = (pred == 1).nonzero(as_tuple=True)[0]\n",
    "            important_idx_pos = (pred == 1).nonzero(as_tuple=True)[1]\n",
    "            \n",
    "            # print(important_idx_seq[0:5], important_idx_pos[0:5])\n",
    "            \n",
    "            important_input_ids = input_ids.clone().detach()[important_idx_seq, important_idx_pos]\n",
    "            # important_word_ids = word_ids.clone().detach()[important_idx_seq, important_idx_pos]\n",
    "            \n",
    "            # print(important_input_ids)\n",
    "            \n",
    "#             # put [MASK] token at the position of the important tokens\n",
    "#             masked_input_ids = input_ids.detach().clone()\n",
    "#             masked_input_ids[important_idx_seq, important_idx_pos] = self.model_mask_id\n",
    "#             # ensure that the first and last tokens are not masked\n",
    "#             masked_input_ids[:, 0]   = self.model_cls_id\n",
    "#             masked_input_ids[:, 511] = self.model_sep_id\n",
    "            \n",
    "#             # print(masked_input_ids.shape)\n",
    "            \n",
    "#             labels    = torch.ones_like(att_mask).to(device) * -100 # init all labels with -100\n",
    "#             # put original token input_ids at the position of important tokens\n",
    "#             masked_labels  = labels.index_put(indices = (important_idx_seq, important_idx_pos) , values = important_input_ids)\n",
    "#             # ensure that the model do not predict the fist and last tokens\n",
    "#             masked_labels[:, 0]   = -100\n",
    "#             masked_labels[:, 511] = -100\n",
    "            \n",
    "            self.list_important_input_ids.append(important_input_ids)\n",
    "            # self.list_important_word_ids.append(important_word_ids)\n",
    "            # self.list_important_idx_seq.append(important_idx_seq)\n",
    "            # self.list_important_idx_pos.append(important_idx_pos)\n",
    "            \n",
    "            # if idx == 10 :\n",
    "            #     break\n",
    "            \n",
    "#             for i in range(input_ids.shape[0]):\n",
    "            \n",
    "#                 self.list_input_ids.append(masked_input_ids[i].clone())\n",
    "#                 self.list_word_ids.append(word_ids[i].clone())\n",
    "#                 self.list_attention_mask.append(torch.ones_like(masked_input_ids[i]))\n",
    "#                 self.list_orig_text.append(orig_text[i])\n",
    "#                 self.list_masked_text.append(self.tokenizer.decode(masked_input_ids[i].clone()))\n",
    "#                 self.list_labels.append(masked_labels[i].clone())\n",
    "                \n",
    "                # print(masked_input_ids[10].clone())\n",
    "                # print(masked_labels[10].clone())\n",
    "                \n",
    "        # assert len(self.list_input_ids) == len(self.list_word_ids) == len(self.list_attention_mask) == len(self.list_orig_text) == len(self.list_masked_text) == len(self.list_labels)"
   ]
  },
  {
   "cell_type": "code",
   "execution_count": 6,
   "id": "8119184e-7c24-4b31-8d7f-85ada122189b",
   "metadata": {},
   "outputs": [
    {
     "name": "stdout",
     "output_type": "stream",
     "text": [
      "012345678910"
     ]
    }
   ],
   "source": [
    "my_train_dataset   = PROPMLMDataset(train_loader, model, tokenizer)"
   ]
  },
  {
   "cell_type": "code",
   "execution_count": 11,
   "id": "27ec5062-b96d-4291-8181-d96472a3cb86",
   "metadata": {},
   "outputs": [],
   "source": [
    "masked_token_freq = {}\n",
    "\n",
    "for input_ids in my_train_dataset.list_important_input_ids:\n",
    "    for each_id in input_ids:\n",
    "        # print(each_id)\n",
    "        token = tokenizer.decode(each_id)\n",
    "        # print(token)\n",
    "        if token not in masked_token_freq.keys():\n",
    "            # print(\"new\")\n",
    "            masked_token_freq[token] = 1\n",
    "        else : \n",
    "            # print(\"old\")\n",
    "            masked_token_freq[token] += 1"
   ]
  },
  {
   "cell_type": "code",
   "execution_count": 12,
   "id": "721d0fb6-bda6-425f-9753-60b7d0b2e159",
   "metadata": {},
   "outputs": [
    {
     "name": "stdout",
     "output_type": "stream",
     "text": [
      "[('.', 1681), (\"'\", 1500), (',', 878), ('and', 652), ('i', 421), ('but', 400), ('the', 334), ('!', 245), ('you', 224), ('it', 186), ('this', 158), ('##s', 123), ('so', 117), ('##t', 116), ('game', 116), ('your', 82), ('my', 59), ('##l', 59), ('im', 56), ('is', 54), ('which', 53), ('its', 51), ('##ha', 50), ('lo', 48), ('fucking', 48), ('though', 47), ('pokemon', 44), ('as', 43), ('ha', 42), ('##e', 41), ('don', 41), ('that', 39), ('they', 37), ('?', 34), ('games', 33), ('a', 32), ('these', 31), ('man', 30), ('one', 30), ('just', 30), ('s', 29), ('or', 29), ('because', 29), ('post', 27), ('etc', 26), ('are', 26), ('pc', 26), ('of', 25), ('then', 25), ('am', 24), ('##d', 24), ('t', 24), ('##a', 23), ('team', 23), ('##o', 22), ('video', 22), ('was', 21), ('op', 21), ('well', 21), ('deck', 21), ('##n', 20), ('can', 20), ('##w', 20), ('to', 19), ('in', 19), ('amazon', 19), ('##r', 18), ('u', 18), ('since', 18), ('fuck', 18), ('th', 18), ('##in', 18), ('on', 17), ('song', 17), ('##m', 17), ('##p', 16), ('##er', 16), ('she', 16), ('##u', 16), ('here', 16), ('cards', 16), ('dude', 15), ('me', 15), ('player', 15), ('didn', 15), ('he', 14), ('not', 14), ('##g', 14), ('halo', 14), ('her', 13), ('play', 13), ('##x', 13), ('have', 13), ('guys', 13), ('##h', 13), ('##i', 13), ('card', 13), ('ps', 12), ('show', 12), ('an', 12), ('##on', 12), ('won', 12), ('star', 12), ('sub', 12), ('ill', 12), ('tho', 12), ('year', 12), ('playing', 12), ('space', 12), ('film', 11), ('for', 11), ('will', 11), ('them', 11), ('n', 11), ('m', 11), ('love', 11), ('friend', 11), ('shit', 11), ('character', 11), ('red', 11), ('##lr', 11), ('tournament', 11), ('anime', 11), ('no', 11), ('asks', 11), ('bill', 11), ('panties', 11), ('3', 10), ('played', 10), ('l', 10), ('##na', 10), ('book', 10), ('app', 10), ('x', 10), ('songs', 10), ('house', 10), ('##an', 10), ('##c', 10), ('isn', 10), ('city', 10), ('ios', 10), ('series', 10), ('cpu', 10), ('super', 10), ('##f', 10), ('at', 10), ('there', 10), ('thanks', 9), ('e', 9), ('##2', 9), ('avengers', 9), ('cause', 9), ('world', 9), ('jesus', 9), ('##b', 9), ('go', 9), ('gaming', 9), ('d', 9), ('country', 9), ('k', 9), ('community', 9), ('work', 9), ('bro', 9), ('##re', 9), ('event', 9), ('##y', 9), ('heroes', 9), ('iv', 9), ('also', 8), ('ya', 8), ('##4', 8), ('##man', 8), ('samsung', 8), ('w', 8), ('blizzard', 8), ('nexus', 8), ('gonna', 8), ('bt', 8), ('girl', 8), ('story', 8), ('turkey', 8), ('thread', 8), ('##k', 8), ('white', 8), ('v', 8), ('##dit', 8), ('guy', 8), ('season', 8), ('mana', 8), ('luck', 8), ('content', 8), ('ser', 8), ('source', 7), ('##z', 7), ('black', 7), ('titan', 7), ('android', 7), ('ro', 7), ('had', 7), ('##1', 7), ('soo', 7), ('[SEP]', 7), ('##craft', 7), ('players', 7), ('em', 7), ('canada', 7), ('dr', 7), ('writing', 7), ('far', 7), ('new', 7), ('shipping', 7), ('who', 7), ('home', 7), ('tom', 7), ('price', 7), ('state', 7), ('##bu', 7), ('like', 7), ('id', 7), ('case', 7), ('mod', 7), ('music', 7), ('wwe', 7), ('hoc', 7), ('board', 7), ('decks', 7), ('god', 7), ('##us', 7), ('xbox', 7), ('knife', 7), ('chan', 7), ('##20', 7), ('even', 6), ('buddy', 6), ('marvel', 6), ('jon', 6), ('best', 6), ('yo', 6), ('party', 6), ('google', 6), ('job', 6), ('beach', 6), ('race', 6), ('picture', 6), ('##de', 6), ('title', 6), ('stats', 6), ('##tf', 6), ('##go', 6), ('guitar', 6), ('camp', 6), ('album', 6), ('town', 6), ('site', 6), ('phones', 6), ('g', 6), ('casting', 6), ('hero', 6), ('survey', 6), ('anyway', 6), ('kinda', 6), ('thing', 6), ('league', 6), ('industry', 6), ('wanna', 6), ('computer', 6), ('car', 6), ('b', 6), ('yet', 6), ('some', 6), ('farm', 6), ('pro', 6), ('pv', 6), ('time', 6), ('catholic', 6), ('jungle', 6), ('with', 6), ('jay', 6), ('lan', 6), ('israel', 6), ('trade', 6), ('ship', 6), ('##ly', 6), ('makeup', 6), ('asian', 6), ('richard', 6), ('gay', 5), ('mu', 5), ('raiders', 5), ('##v', 5), ('amazing', 5), ('dc', 5), ('internet', 5), ('ga', 5), ('mma', 5), ('bear', 5), ('snow', 5), ('really', 5), ('turtle', 5), ('o', 5), ('skill', 5), ('pcs', 5), ('da', 5), ('cod', 5), ('oh', 5), ('class', 5), ('great', 5), ('beauty', 5), ('greece', 5), ('maps', 5), ('king', 5), ('stream', 5), ('sky', 5), ('doesn', 5), ('wouldn', 5), ('tower', 5), ('be', 5), ('matches', 5), ('enemy', 5), ('ad', 5), ('movie', 5), ('gun', 5), ('f', 5), ('australia', 5), ('de', 5), ('body', 5), ('school', 5), ('sea', 5), ('##gate', 5), ('from', 5), ('battle', 5), ('life', 5), ('episode', 5), ('cats', 5), ('cat', 5), ('church', 5), ('bio', 5), ('um', 5), ('where', 5), ('week', 5), ('up', 5), ('map', 5), ('him', 5), ('bass', 5), ('people', 5), ('did', 5), ('has', 5), ('match', 5), ('re', 5), ('about', 5), ('hs', 5), ('system', 5), ('mormon', 5), ('war', 5), ('fight', 5), ('article', 5), ('their', 5), ('phone', 5), ('samurai', 5), ('chinese', 5), ('ever', 5), ('mold', 5), ('too', 5), ('com', 5), ('pen', 5), ('##ing', 5), ('gym', 5), ('bulb', 5), ('##asa', 5), ('##ur', 5), ('poole', 5), ('camps', 5), ('retail', 4), ('girls', 4), ('diamond', 4), ('ain', 4), ('fe', 4), ('try', 4), ('ice', 4), ('spider', 4), ('watch', 4), ('cm', 4), ('do', 4), ('##ap', 4), ('first', 4), ('scene', 4), ('if', 4), ('memory', 4), ('##et', 4), ('hope', 4), ('spell', 4), ('monsters', 4), ('wow', 4), ('area', 4), ('magic', 4), ('items', 4), ('nor', 4), ('ve', 4), ('uk', 4), ('wo', 4), ('##3', 4), ('down', 4), ('ce', 4), ('##ll', 4), ('haven', 4), ('band', 4), ('al', 4), ('rt', 4), ('pirate', 4), ('##il', 4), ('na', 4), ('iphone', 4), ('##5', 4), ('##rim', 4), ('fa', 4), ('those', 4), ('tax', 4), ('vinyl', 4), ('&', 4), ('art', 4), ('ac', 4), ('totally', 4), ('##en', 4), ('##or', 4), ('quantum', 4), ('however', 4), ('product', 4), ('ed', 4), ('friends', 4), ('look', 4), ('stuff', 4), ('reading', 4), ('mo', 4), ('actually', 4), ('shows', 4), ('monitor', 4), ('windows', 4), ('dark', 4), ('books', 4), ('p', 4), ('##el', 4), ('##mo', 4), ('##co', 4), ('win', 4), ('##da', 4), ('products', 4), ('read', 4), ('pretty', 4), ('mine', 4), ('microsoft', 4), ('mr', 4), ('apple', 4), ('##ry', 4), ('##der', 4), ('mc', 4), ('nba', 4), ('teacher', 4), ('link', 4), ('club', 4), ('unfortunately', 4), ('fi', 4), ('##gg', 4), ('##ers', 4), ('self', 4), ('holy', 4), ('batman', 4), ('##am', 4), ('podcast', 4), ('month', 4), ('videos', 4), ('nightmare', 4), ('r', 4), ('##ite', 4), ('land', 4), ('lakers', 4), ('nu', 4), ('muslims', 4), ('##th', 4), ('eu', 4), ('qualifications', 4), ('va', 4), ('st', 4), ('west', 4), ('ign', 4), ('japanese', 4), ('uber', 4), ('sex', 4), ('couldn', 4), ('knives', 4), ('vegas', 4), ('des', 4), ('army', 4), ('es', 4), ('##st', 4), ('ms', 4), ('##top', 4), ('both', 4), ('##ist', 4), ('rock', 4), ('model', 4), ('##ac', 4), ('role', 4), ('light', 4), ('le', 4), ('goblin', 4), ('punk', 4), ('island', 4), ('color', 4), ('##es', 4), ('tory', 4), ('labour', 4), ('baltimore', 4), ('spurs', 4), ('our', 3), ('peoples', 3), ('bran', 3), ('warlock', 3), ('want', 3), ('suit', 3), ('part', 3), ('comics', 3), ('wife', 3), ('seen', 3), ('number', 3), ('flying', 3), ('yu', 3), ('eve', 3), ('##ls', 3), ('##hen', 3), ('ai', 3), ('netflix', 3), ('experience', 3), ('based', 3), ('folder', 3), ('aren', 3), ('sadly', 3), ('place', 3), ('technique', 3), ('con', 3), ('sa', 3), ('##base', 3), ('##field', 3), ('ole', 3), ('lady', 3), ('maybe', 3), ('again', 3), ('things', 3), ('##oc', 3), ('local', 3), ('looks', 3), ('##li', 3), ('runes', 3), ('record', 3), ('personally', 3), ('##jo', 3), ('##di', 3), ('ho', 3), ('wasn', 3), ('boy', 3), ('sc', 3), ('human', 3), ('end', 3), ('bus', 3), ('portal', 3), ('##ne', 3), ('##hi', 3), ('##su', 3), ('##per', 3), ('author', 3), ('##ta', 3), ('tea', 3), ('##8', 3), ('europe', 3), ('company', 3), ('style', 3), ('teams', 3), ('c', 3), ('probably', 3), ('cast', 3), ('arena', 3), ('2', 3), ('top', 3), ('##ld', 3), ('ur', 3), ('meta', 3), ('hits', 3), ('##mi', 3), ('##7', 3), ('battery', 3), ('apps', 3), ('fallout', 3), ('armor', 3), ('us', 3), ('dem', 3), ('what', 3), ('garden', 3), ('favourite', 3), ('now', 3), ('america', 3), ('##do', 3), ('##va', 3), ('vi', 3), ('steelers', 3), ('chargers', 3), ('opponents', 3), ('##10', 3), ('mic', 3), ('vikings', 3), ('##ians', 3), ('track', 3), ('rap', 3), ('years', 3), ('something', 3), ('novel', 3), ('rb', 3), ('nfl', 3), ('arsenal', 3), ('##is', 3), ('how', 3), ('##play', 3), ('hill', 3), ('##le', 3), ('mountain', 3), ('good', 3), ('build', 3), ('please', 3), ('vapor', 3), ('device', 3), ('mx', 3), ('english', 3), ('ep', 3), ('##no', 3), ('engineering', 3), ('seat', 3), ('comic', 3), ('##ic', 3), ('y', 3), ('found', 3), ('california', 3), ('abs', 3), ('gm', 3), ('michigan', 3), ('##ver', 3), ('grey', 3), ('monica', 3), ('##com', 3), ('enemies', 3), ('linux', 3), ('dia', 3), ('mining', 3), ('##ware', 3), ('##sh', 3), ('##car', 3), ('j', 3), ('mi', 3), ('dream', 3), ('online', 3), ('basketball', 3), ('warriors', 3), ('posted', 3), ('hey', 3), ('karma', 3), ('##ken', 3), ('dean', 3), ('##ea', 3), ('detroit', 3), ('##hit', 3), ('service', 3), ('##ns', 3), ('ghetto', 3), ('business', 3), ('sapphire', 3), ('##be', 3), ('nova', 3), ('run', 3), ('youtube', 3), ('situation', 3), ('superhero', 3), ('galaxy', 3), ('tech', 3), ('##13', 3), ('miss', 3), ('wrestling', 3), ('ts', 3), ('bane', 3), ('hp', 3), ('item', 3), ('beautiful', 3), ('gameplay', 3), ('pl', 3), ('never', 3), ('si', 3), ('ua', 3), ('arenas', 3), ('mt', 3), ('ti', 3), ('tour', 3), ('utah', 3), ('earth', 3), ('##lo', 3), ('germany', 3), ('weekend', 3), ('wings', 3), ('##pro', 3), ('uc', 3), ('bronze', 3), ('we', 3), ('ki', 3), ('holocaust', 3), ('other', 3), ('##ity', 3), ('mode', 3), ('dear', 3), ('##ds', 3), ('bike', 3), ('campaign', 3), ('alton', 3), ('snake', 3), ('dog', 3), ('adventure', 3), ('##ch', 3), ('amiga', 3), ('cs', 3), ('program', 3), ('jews', 3), ('hamas', 3), ('mom', 3), ('target', 3), ('american', 3), ('conquest', 3), ('north', 3), ('##for', 3), ('##pet', 3), ('although', 3), ('someone', 3), ('ra', 3), ('hair', 3), ('finals', 3), ('division', 3), ('atm', 3), ('indian', 3), ('rose', 3), ('pistol', 3), ('cr', 3), ('athena', 3), ('ka', 3), ('animation', 3), ('min', 3), ('minions', 3), ('simply', 3), ('og', 3), ('##ke', 3), ('turk', 3), ('muslim', 3), ('ships', 3), ('solo', 3), ('photo', 3), ('lane', 3), ('events', 3), ('##pe', 3), ('history', 3), ('argentine', 3), ('##town', 3), ('consoles', 3), ('sony', 3), ('got', 3), ('##ma', 3), ('union', 3), ('drive', 3), ('free', 3), ('creature', 3), ('hips', 3), ('##ux', 3), ('laptop', 3), ('barr', 3), ('##uda', 3), ('nude', 3), ('ke', 3), ('za', 3), ('sm', 3), ('zone', 3), ('task', 3), ('hat', 3), ('stat', 3), ('ch', 3), ('ipad', 3), ('butter', 3), ('account', 3), ('freeman', 3), ('steam', 3), ('rub', 3), ('southern', 3), ('jo', 3), ('tesla', 3), ('tilt', 3), ('nas', 3), ('dash', 3), ('lottery', 3), ('vanguard', 3), ('audit', 3), ('carpet', 3), ('workers', 2), ('seriously', 2), ('lucian', 2), ('blog', 2), ('fox', 2), ('##mie', 2), ('legends', 2), ('pussy', 2), ('arc', 2), ('##lov', 2), ('rape', 2), ('##dor', 2), ('flyer', 2), ('numbers', 2), ('flight', 2), ('channel', 2), ('airline', 2), ('sexuality', 2), ('personal', 2), ('japan', 2), ('dana', 2), ('##cal', 2), ('elite', 2), ('dat', 2), ('##0', 2), ('wr', 2), ('diaz', 2), ('##let', 2), ('aka', 2), ('boston', 2), ('shitty', 2), ('nh', 2), ('thursday', 2), ('drives', 2), ('##ai', 2), ('called', 2), ('dev', 2), ('##los', 2), ('hockey', 2), ('##ball', 2), ('##la', 2), ('##ick', 2), ('##ray', 2), ('##mg', 2), ('##xie', 2), ('aa', 2), ('##ra', 2), ('thank', 2), ('peter', 2), ('griffin', 2), ('##bi', 2), ('ci', 2), ('korean', 2), ('worlds', 2), ('chair', 2), ('##as', 2), ('marijuana', 2), ('smoking', 2), ('republican', 2), ('crashed', 2), ('##ie', 2), ('uno', 2), ('##bo', 2), ('##ut', 2), ('bf', 2), ('except', 2), ('clip', 2), ('##pers', 2), ('united', 2), ('##xt', 2), ('heel', 2), ('leo', 2), ('friday', 2), ('gear', 2), ('nope', 2), ('mini', 2), ('shirt', 2), ('whoa', 2), ('##od', 2), ('##ir', 2), ('paris', 2), ('##ae', 2), ('sing', 2), ('lord', 2), ('##gh', 2), ('national', 2), ('hose', 2), ('tu', 2), ('every', 2), ('alien', 2), ('tobacco', 2), ('gt', 2), ('af', 2), ('tournaments', 2), ('mob', 2), ('half', 2), ('ares', 2), ('lot', 2), ('dire', 2), ('rune', 2), ('ag', 2), ('##ow', 2), ('##ans', 2), ('titles', 2), ('usage', 2), ('volume', 2), ('science', 2), ('areas', 2), ('##ed', 2), ('##lma', 2), ('businesses', 2), ('##usa', 2), ('##lly', 2), ('orleans', 2), ('mainly', 2), ('features', 2), ('metal', 2), ('going', 2), ('while', 2), ('arm', 2), ('intel', 2), ('cousin', 2), ('gov', 2), ('issues', 2), ('lee', 2), ('il', 2), ('soundtrack', 2), ('neil', 2), ('lyrics', 2), ('racing', 2), ('contestant', 2), ('poster', 2), ('pol', 2), ('##nt', 2), ('battlefield', 2), ('hoping', 2), ('border', 2), ('level', 2), ('##of', 2), ('horizon', 2), ('gu', 2), ('##rp', 2), ('poetry', 2), ('sleep', 2), ('bi', 2), ('ok', 2), ('##id', 2), ('cover', 2), ('pick', 2), ('sd', 2), ('ball', 2), ('##uri', 2), ('##nh', 2), ('copa', 2), ('dortmund', 2), ('un', 2), ('sport', 2), ('pa', 2), ('andy', 2), ('china', 2), ('night', 2), ('coast', 2), ('##ve', 2), ('##hic', 2), ('phoenix', 2), ('bed', 2), ('ops', 2), ('children', 2), ('rocket', 2), ('##ore', 2), ('ma', 2), ('spin', 2), ('flavor', 2), ('clapton', 2), ('roles', 2), ('burgundy', 2), ('##life', 2), ('awesome', 2), ('moe', 2), ('den', 2), ('##ku', 2), ('##ga', 2), ('know', 2), ('spiritual', 2), ('through', 2), ('cosmic', 2), ('psychedelic', 2), ('weed', 2), ('chelsea', 2), ('ca', 2), ('mate', 2), ('##ca', 2), ('deep', 2), ('sure', 2), ('law', 2), ('running', 2), ('everyone', 2), ('cc', 2), ('sonic', 2), ('quake', 2), ('##con', 2), ('nj', 2), ('nz', 2), ('weight', 2), ('society', 2), ('cross', 2), ('website', 2), ('should', 2), ('##ices', 2), ('dig', 2), ('ds', 2), ('states', 2), ('##ding', 2), ('were', 2), ('tree', 2), ('##ker', 2), ('process', 2), ('desktop', 2), ('ballot', 2), ('leadership', 2), ('pictures', 2), ('trailer', 2), ('##lin', 2), ('units', 2), ('tanks', 2), ('ea', 2), ('hawks', 2), ('atlanta', 2), ('east', 2), ('female', 2), ('college', 2), ('##suit', 2), ('religious', 2), ('cooper', 2), ('murphy', 2), ('could', 2), ('crowley', 2), ('gs', 2), ('nest', 2), ('1', 2), ('ml', 2), ('cube', 2), ('mix', 2), ('forest', 2), ('mixes', 2), ('user', 2), ('##ol', 2), ('artist', 2), ('student', 2), ('cruz', 2), ('##kes', 2), ('##tle', 2), ('##end', 2), ('chick', 2), ('##16', 2), ('last', 2), ('gp', 2), ('neck', 2), ('##ard', 2), ('edit', 2), ('##al', 2), ('pu', 2), ('all', 2), ('5', 2), ('ol', 2), ('showing', 2), ('promo', 2), ('##cre', 2), ('non', 2), ('##kor', 2), ('americans', 2), ('##den', 2), ('vessel', 2), ('acting', 2), ('monster', 2), ('note', 2), ('##ps', 2), ('poker', 2), ('ray', 2), ('##lord', 2), ('being', 2), ('mess', 2), ('##all', 2), ('##swell', 2), ('soccer', 2), ('professional', 2), ('been', 2), ('hip', 2), ('hop', 2), ('7', 2), ('toronto', 2), ('force', 2), ('trump', 2), ('##ul', 2), ('gem', 2), ('handed', 2), ('ec', 2), ('devil', 2), ('vamp', 2), ('ry', 2), ('##ab', 2), ('##ot', 2), ('##sa', 2), ('##vir', 2), ('stars', 2), ('para', 2), ('yeah', 2), ('bulls', 2), ('ohio', 2), ('australian', 2), ('britain', 2), ('##sie', 2), ('canadian', 2), ('##uid', 2), ('collection', 2), ('center', 2), ('##ria', 2), ('aliens', 2), ('z', 2), ('bot', 2), ('dive', 2), ('##bl', 2), ('mobile', 2), ('##smo', 2), ('##pa', 2), ('mike', 2), ('met', 2), ('caucasian', 2), ('##wi', 2), ('barbie', 2), ('group', 2), ('##so', 2), ('##cial', 2), ('minority', 2), ('##op', 2), ('babe', 2), ('ugly', 2), ('full', 2), ('diving', 2), ('camera', 2), ('##dick', 2), ('curry', 2), ('##sal', 2), ('many', 2), ('countries', 2), ('damn', 2), ('cyclist', 2), ('crowd', 2), ('nt', 2), ('##nee', 2), ('way', 2), ('##lands', 2), ('laid', 2), ('sv', 2), ('pennsylvania', 2), ('trolls', 2), ('##ad', 2), ('isis', 2), ('universe', 2), ('storm', 2), ('fun', 2), ('##he', 2), ('baby', 2), ('dogs', 2), ('meg', 2), ('##lip', 2), ('plaza', 2), ('dragon', 2), ('river', 2), ('fr', 2), ('wat', 2), ('##ar', 2), ('verified', 2), ('##get', 2), ('##ron', 2), ('##fa', 2), ('valve', 2), ('chicago', 2), ('warsaw', 2), ('gaza', 2), ('flame', 2), ('christian', 2), ('calvin', 2), ('cal', 2), ('duke', 2), ('##you', 2), ('##the', 2), ('memphis', 2), ('travel', 2), ('craig', 2), ('drugs', 2), ('services', 2), ('clock', 2), ('foods', 2), ('mother', 2), ('##cking', 2), ('would', 2), ('public', 2), ('porn', 2), ('welcome', 2), ('##ia', 2), ('med', 2), ('doctor', 2), ('tha', 2), ('adam', 2), ('rig', 2), ('li', 2), ('gen', 2), ('troll', 2), ('headline', 2), ('sf', 2), ('starbucks', 2), ('nostalgia', 2), ('kanye', 2), ('silver', 2), ('##son', 2), ('defence', 2), ('cola', 2), ('az', 2), ('##ura', 2), ('jc', 2), ('mb', 2), ('asylum', 2), ('combat', 2), ('portland', 2), ('##kim', 2), ('te', 2), ('##mp', 2), ('act', 2), ('console', 2), ('cf', 2), ('sox', 2), ('pi', 2), ('##rse', 2), ('round', 2), ('tide', 2), ('movement', 2), ('dice', 2), ('credit', 2), ('##card', 2), ('sexy', 2), ('despite', 2), ('airship', 2), ('##fe', 2), ('jamie', 2), ('weren', 2), ('police', 2), ('comedy', 2), ('##me', 2), ('##tan', 2), ('##ak', 2), ('sega', 2), ('##lor', 2), ('cancer', 2), ('empire', 2), ('thatcher', 2), ('islanders', 2), ('kid', 2), ('nintendo', 2), ('##mb', 2), ('production', 2), ('korea', 2), ('date', 2), ('riverside', 2), ('actors', 2), ('same', 2), ('riot', 2), ('weapon', 2), ('##vo', 2), ('hi', 2), ('##personal', 2), ('mines', 2), ('houses', 2), ('##and', 2), ('therefore', 2), ('praying', 2), ('sound', 2), ('hell', 2), ('programming', 2), ('aura', 2), ('##bla', 2), ('##ter', 2), ('graphic', 2), ('fable', 2), ('enterprise', 2), ('development', 2), ('guardian', 2), ('only', 2), ('problem', 2), ('clinton', 2), ('road', 2), ('ko', 2), ('nfc', 2), ('parcels', 2), ('finish', 2), ('sand', 2), ('zombie', 2), ('##ge', 2), ('##ki', 2), ('##fire', 2), ('farming', 2), ('yi', 2), ('tavern', 2), ('glorious', 2), ('currently', 2), ('controller', 2), ('##j', 2), ('##nist', 2), ('code', 2), ('trades', 2), ('legion', 2), ('lists', 2), ('sue', 2), ('project', 2), ('park', 2), ('mark', 2), ('contest', 2), ('put', 2), ('thus', 2), ('guild', 2), ('iron', 2), ('bank', 2), ('addiction', 2), ('denmark', 2), ('atheist', 2), ('wal', 2), ('goods', 2), ('military', 2), ('contractors', 2), ('schools', 2), ('nebraska', 2), ('weights', 2), ('os', 2), ('economy', 2), ('jr', 2), ('shea', 2), ('##mus', 2), ('h', 2), ('##nc', 2), ('set', 2), ('off', 2), ('gotta', 2), ('elect', 2), ('oregon', 2), ('rd', 2), ('call', 2), ('penguins', 2), ('death', 2), ('##ee', 2), ('women', 2), ('ft', 2), ('live', 2), ('grammatical', 2), ('electronic', 2), ('dot', 2), ('##walker', 2), ('masks', 2), ('husband', 2), ('kan', 2), ('##dy', 2), ('##rke', 2), ('parker', 2), ('holiday', 2), ('started', 2), ('##ton', 2), ('planes', 2), ('letters', 2), ('immigration', 2), ('##io', 2), ('wealth', 2), ('gems', 2), ('stalin', 2), ('jackets', 2), ('melbourne', 2), ('##wai', 2), ('position', 2), ('table', 2), ('cameras', 2), ('images', 2), ('bandits', 2), ('##ng', 2), ('dar', 2), ('dex', 2), ('##wen', 2), ('##mouth', 2), ('ska', 2), ('safari', 2), ('auschwitz', 2), ('jewish', 2), ('tokyo', 2), ('opening', 2), ('anyone', 2), ('ny', 2), ('pic', 2), ('highland', 2), ('gamer', 2), ('dead', 2), ('##rom', 2), ('cannabis', 2), ('location', 2), ('little', 2), ('day', 2), ('poland', 2), ('kobe', 2), ('www', 2), ('##po', 2), ('train', 2), ('ak', 2), ('including', 2), ('neo', 2), ('aces', 2), ('##9', 2), ('##ion', 2), ('cry', 2), ('posts', 2), ('facebook', 2), ('dad', 2), ('ah', 2), ('theater', 2), ('trees', 2), ('freaking', 1), ('customers', 1), ('shoes', 1), ('##oh', 1), ('department', 1), ('take', 1), ('##working', 1), ('roommate', 1), ('leon', 1), ('travis', 1), ('##real', 1), ('lucien', 1), ('ming', 1), ('##bri', 1), ('more', 1), ('gall', 1), ('crime', 1), ('side', 1), ('dylan', 1), ('june', 1), ('presenting', 1), ('potter', 1), ('somehow', 1), ('seasons', 1), ('perhaps', 1), ('storyline', 1), ('##pop', 1), ('frequent', 1), ('discovery', 1), ('sunrise', 1), ('earning', 1), ('channels', 1), ('groups', 1), ('mimi', 1), ('##gan', 1), ('##wani', 1), ('fra', 1), ('##cta', 1), ('assault', 1), ('foe', 1), ('##sun', 1), ('##nis', 1), ('1900', 1), ('08', 1), ('bernie', 1), ('difficulty', 1), ('kata', 1), ('houston', 1), ('cowboys', 1), ('nyc', 1), ('henrietta', 1), ('margarita', 1), ('##rain', 1), ('ride', 1), ('paper', 1), ('magnetic', 1), ('flash', 1), ('issue', 1), ('upgrading', 1), ('marsh', 1), ('##mal', 1), ('##low', 1), ('stock', 1), ('sat', 1), ('##ii', 1), ('wa', 1), ('files', 1), ('zip', 1), ('lose', 1), ('peasant', 1), ('africa', 1), ('south', 1), ('african', 1), ('football', 1), ('##cross', 1), ('rugby', 1), ('##cr', 1), ('reply', 1), ('support', 1), ('centers', 1), ('notebook', 1), ('figured', 1), ('might', 1), ('##rak', 1), ('archers', 1), ('feature', 1), ('duck', 1), ('hunted', 1), ('considering', 1), ('method', 1), ('eh', 1), ('fantastic', 1), ('taken', 1), ('subway', 1), ('suburb', 1), ('codes', 1), ('person', 1), ('positions', 1), ('##ggs', 1), ('##uch', 1), ('##bags', 1), ('annie', 1), ('spear', 1), ('sal', 1), ('##aman', 1), ('##iba', 1), ('construction', 1), ('sara', 1), ('streams', 1), ('ib', 1), ('staff', 1), ('inventory', 1), ('apparently', 1), ('twitter', 1), ('mccain', 1), ('driving', 1), ('150', 1), ('##ffer', 1), ('##eb', 1), ('##ran', 1), ('##onga', 1), ('##yne', 1), ('nan', 1), ('##wa', 1), ('mystic', 1), ('##don', 1), ('##wan', 1), ('##tto', 1), ('##thi', 1), ('##nka', 1), ('mage', 1), ('clips', 1), ('retiring', 1), ('explorer', 1), ('raw', 1), ('mcgregor', 1), ('belt', 1), ('successfully', 1), ('consecutive', 1), ('residence', 1), ('pedal', 1), ('riff', 1), ('acoustic', 1), ('##umb', 1), ('##ag', 1), ('josh', 1), ('19', 1), ('##ipe', 1), ('dance', 1), ('break', 1), ('water', 1), ('shoe', 1), ('105', 1), ('monopoly', 1), ('attack', 1), ('inspirational', 1), ('thief', 1), ('pm', 1), ('##sling', 1), ('##ou', 1), ('##lla', 1), ('sandwich', 1), ('transit', 1), ('wave', 1), ('dinosaurs', 1), ('alaska', 1), ('move', 1), ('##master', 1), ('kevin', 1), ('within', 1), ('cupboard', 1), ('##ida', 1), ('transport', 1), ('flavour', 1), ('los', 1), ('santos', 1), ('tang', 1), ('##iers', 1), ('hot', 1), ('##lic', 1), ('ba', 1), ('##kas', 1), ('qualifier', 1), ('kara', 1), ('##oke', 1), ('##dev', 1), ('hindu', 1), ('nsa', 1), ('##ret', 1), ('sorry', 1), ('cup', 1), ('companies', 1), ('cliff', 1), ('tre', 1), ('##ant', 1), ('##hs', 1), ('sl', 1), ('##ser', 1), ('carries', 1), ('##aith', 1), ('identical', 1), ('##si', 1), ('##lars', 1), ('##oned', 1), ('##eta', 1), ('kb', 1), ('settings', 1), ('substrate', 1), ('elder', 1), ('dawn', 1), ('##guard', 1), ('##run', 1), ('gaunt', 1), ('##lets', 1), ('##ric', 1), ('robin', 1), ('election', 1), ('lift', 1), ('##sus', 1), ('arizona', 1), ('policy', 1), ('lumber', 1), ('studio', 1), ('lighting', 1), ('angeles', 1), ('apes', 1), ('46', 1), ('hard', 1), ('##are', 1), ('##vn', 1), ('dd', 1), ('socket', 1), ('##56', 1), ('##60', 1), ('goin', 1), ('banks', 1), ('peasants', 1), ('iceland', 1), ('hammer', 1), ('baseball', 1), ('clothes', 1), ('san', 1), ('juan', 1), ('money', 1), ('greeks', 1), ('characters', 1), ('vol', 1), ('cap', 1), ('rogers', 1), ('brother', 1), ('ang', 1), ('hulk', 1), ('##fields', 1), ('lp', 1), ('springfield', 1), ('perfect', 1), ('godfather', 1), ('albums', 1), ('##ju', 1), ('bowie', 1), ('replacements', 1), ('approximately', 1), ('km', 1), ('##kai', 1), ('admiral', 1), ('rob', 1), ('##gr', 1), ('ava', 1), ('mechanics', 1), ('waves', 1), ('coin', 1), ('buy', 1), ('broncos', 1), ('##beau', 1), ('pilot', 1), ('flowing', 1), ('dam', 1), ('##ava', 1), ('##nd', 1), ('peak', 1), ('bandit', 1), ('valkyrie', 1), ('structures', 1), ('caspian', 1), ('jeep', 1), ('projects', 1), ('3rd', 1), ('##nch', 1), ('nights', 1), ('systems', 1), ('knit', 1), ('##ted', 1), ('##mori', 1), ('yarn', 1), ('check', 1), ('ky', 1), ('##rie', 1), ('hook', 1), ('mayo', 1), ('##form', 1), ('hence', 1), ('either', 1), ('basically', 1), ('skyline', 1), ('##uto', 1), ('granted', 1), ('lil', 1), ('ghost', 1), ('small', 1), ('conservative', 1), ('poly', 1), ('secondary', 1), ('massage', 1), ('ethnicity', 1), ('##cup', 1), ('fire', 1), ('smoke', 1), ('effectiveness', 1), ('ass', 1), ('##orted', 1), ('ref', 1), ('jacket', 1), ('picking', 1), ('under', 1), ('scary', 1), ('serial', 1), ('neither', 1), ('widely', 1), ('ravens', 1), ('bengals', 1), ('afc', 1), ('asia', 1), ('ramos', 1), ('231', 1), ('argentina', 1), ('##uy', 1), ('milan', 1), ('least', 1), ('ncaa', 1), ('belgian', 1), ('el', 1), ('abe', 1), ('spanish', 1), ('col', 1), ('vehicle', 1), ('golf', 1), ('slender', 1), ('breaking', 1), ('bad', 1), ('motor', 1), ('biker', 1), ('sleeve', 1), ('prices', 1), ('speakers', 1), ('merchant', 1), ('##art', 1), ('##vie', 1), ('reg', 1), ('getting', 1), ('stations', 1), ('swedish', 1), ('prize', 1), ('definitely', 1), ('statue', 1), ('millennium', 1), ('aircraft', 1), ('seattle', 1), ('line', 1), ('##ys', 1), ('##ardo', 1), ('andes', 1), ('crescent', 1), ('magma', 1), ('clone', 1), ('ace', 1), ('quote', 1), ('nations', 1), ('alan', 1), ('trail', 1), ('roller', 1), ('coaster', 1), ('sim', 1), ('##naut', 1), ('hemisphere', 1), ('##hat', 1), ('##ime', 1), ('polynomials', 1), ('wan', 1), ('##abe', 1), ('ali', 1), ('##ttle', 1), ('mg', 1), ('plateau', 1), ('trips', 1), ('bud', 1), ('costa', 1), ('##zo', 1), ('##rl', 1), ('terry', 1), ('ivanov', 1), ('oscar', 1), ('gabriel', 1), ('yesterday', 1), ('walsall', 1), ('suarez', 1), ('la', 1), ('liga', 1), ('bar', 1), ('info', 1), ('cannot', 1), ('married', 1), ('thoughts', 1), ('volunteer', 1), ('luckily', 1), ('##14', 1), ('shave', 1), ('hello', 1), ('##pd', 1), ('alumni', 1), ('graduated', 1), ('capital', 1), ('district', 1), ('saratoga', 1), ('pitt', 1), ('marshall', 1), ('##zzo', 1), ('texas', 1), ('##ncies', 1), ('sit', 1), ('##hes', 1), ('##hoe', 1), ('litter', 1), ('##aly', 1), ('wetlands', 1), ('##sis', 1), ('moons', 1), ('sentence', 1), ('lover', 1), ('##cp', 1), ('##her', 1), ('effect', 1), ('sir', 1), ('meal', 1), ('justice', 1), ('two', 1), ('penny', 1), ('tri', 1), ('tex', 1), ('mission', 1), ('##bin', 1), ('rita', 1), ('crater', 1), ('13', 1), ('##ft', 1), ('##met', 1), ('fortunately', 1), ('tin', 1), ('mps', 1), ('hive', 1), ('bees', 1), ('wai', 1), ('java', 1), ('beast', 1), ('##mes', 1), ('##45', 1), ('favorite', 1), ('##bian', 1), ('virtual', 1), ('applications', 1), ('yourself', 1), ('educational', 1), ('turnbull', 1), ('abbot', 1), ('die', 1), ('wood', 1), ('##ving', 1), ('##que', 1), ('wireless', 1), ('bruno', 1), ('dun', 1), ('##ff', 1), ('roach', 1), ('##ck', 1), ('already', 1), ('lindsay', 1), ('tyler', 1), ('stil', 1), ('decent', 1), ('cavaliers', 1), ('carroll', 1), ('jeff', 1), ('shooter', 1), ('ut', 1), ('patriots', 1), ('works', 1), ('president', 1), ('plants', 1), ('located', 1), ('bundles', 1), ('gas', 1), ('##eous', 1), ('discharge', 1), ('##ri', 1), ('romance', 1), ('##side', 1), ('quay', 1), ('tv', 1), ('hand', 1), ('##foot', 1), ('expand', 1), ('equality', 1), ('government', 1), ('brand', 1), ('losing', 1), ('ending', 1), ('left', 1), ('network', 1), ('winchester', 1), ('lawrence', 1), ('kansas', 1), ('commentary', 1), ('##bang', 1), ('supernatural', 1), ('probe', 1), ('hu', 1), ('fm', 1), ('much', 1), ('##sm', 1), ('##gree', 1), ('##ngo', 1), ('ticket', 1), ('helix', 1), ('##het', 1), ('midland', 1), ('%', 1), ('sweater', 1), ('passion', 1), ('skylar', 1), ('compartment', 1), ('##name', 1), ('gogh', 1), ('highs', 1), ('##cho', 1), ('expansive', 1), ('journalist', 1), ('joe', 1), ('##any', 1), ('##iste', 1), ('overall', 1), ('straps', 1), ('career', 1), ('painfully', 1), ('##lm', 1), ('hbo', 1), ('##ast', 1), ('pepper', 1), ('##oni', 1), ('katy', 1), ('uptown', 1), ('poke', 1), ('##bat', 1), ('1000', 1), ('format', 1), ('runs', 1), ('prizes', 1), ('tattoos', 1), ('arab', 1), ('startup', 1), ('pair', 1), ('pairs', 1), ('bc', 1), ('mock', 1), ('fighting', 1), ('looked', 1), ('impressive', 1), ('large', 1), ('exploring', 1), ('db', 1), ('hunter', 1), ('training', 1), ('butterflies', 1), ('ing', 1), ('##ame', 1), ('hacked', 1), ('situations', 1), ('tunnel', 1), ('ipod', 1), ('awe', 1), ('##tory', 1), ('pregnant', 1), ('tee', 1), ('phillip', 1), ('##fl', 1), ('artwork', 1), ('vocals', 1), ('instruments', 1), ('amp', 1), ('94', 1), ('##ean', 1), ('owls', 1), ('##kra', 1), ('##saurus', 1), ('##dr', 1), ('amsterdam', 1), ('##shi', 1), ('terrorism', 1), ('terrorist', 1), ('away', 1), ('authority', 1), ('##hy', 1), ('worship', 1), ('##ual', 1), ('very', 1), ('pat', 1), ('namely', 1), ('palmer', 1), ('valiant', 1), ('thor', 1), ('##ious', 1), ('##issa', 1), ('##uga', 1), ('vehicles', 1), ('albanians', 1), ('cops', 1), ('skate', 1), ('universities', 1), ('tuition', 1), ('angle', 1), ('jason', 1), ('ee', 1), ('##je', 1), ('boards', 1), ('thunder', 1), ('helm', 1), ('##breaker', 1), ('bun', 1), ('##gie', 1), ('114', 1), ('raider', 1), ('chu', 1), ('tablet', 1), ('surface', 1), ('coins', 1), ('extremely', 1), ('blood', 1), ('##ane', 1), ('solar', 1), ('crest', 1), ('obviously', 1), ('along', 1), ('bb', 1), ('burnett', 1), ('drunken', 1), ('remote', 1), ('fame', 1), ('incident', 1), ('ufo', 1), ('inspiring', 1), ('annexation', 1), ('ku', 1), ('##tch', 1), ('fencing', 1), ('gr', 1), ('##ffin', 1), ('##ful', 1), ('underground', 1), ('enter', 1), ('wu', 1), ('##tang', 1), ('##bee', 1), ('partnership', 1), ('observer', 1), ('tyres', 1), ('total', 1), ('indians', 1), ('##rrard', 1), ('atletico', 1), ('liverpool', 1), ('valencia', 1), ('flush', 1), ('brooks', 1), ('telephone', 1), ('liberia', 1), ('bow', 1), ('##sso', 1), ('spelling', 1), ('penis', 1), ('rep', 1), ('##hdi', 1), ('wen', 1), ('floor', 1), ('##ess', 1), ('dungeons', 1), ('zeus', 1), ('##hara', 1), ('##mind', 1), ('tam', 1), ('eddie', 1), ('reigns', 1), ('cu', 1), ('##lde', 1), ('##ote', 1), ('edge', 1), ('roster', 1), ('##more', 1), ('era', 1), ('##hta', 1), ('design', 1), ('future', 1), ('traveller', 1), ('evil', 1), ('heard', 1), ('##ncy', 1), ('##ig', 1), ('##ley', 1), ('mel', 1), ('knicks', 1), ('cleveland', 1), ('barn', 1), ('aus', 1), ('waters', 1), ('##tv', 1), ('pyramid', 1), ('warrior', 1), ('hearth', 1), ('##stone', 1), ('gold', 1), ('turn', 1), ('happy', 1), ('valley', 1), ('pianist', 1), ('religion', 1), ('ty', 1), ('crying', 1), ('eden', 1), ('times', 1), ('##om', 1), ('together', 1), ('##bre', 1), ('chronological', 1), ('##yra', 1), ('rumble', 1), ('jan', 1), ('mor', 1), ('##dek', 1), ('##ais', 1), ('blitz', 1), ('pan', 1), ('media', 1), ('footsteps', 1), ('titans', 1), ('winter', 1), ('classic', 1), ('##ject', 1), ('garry', 1), ('gi', 1), ('##kot', 1), ('enjoy', 1), ('honestly', 1), ('##pse', 1), ('##tion', 1), ('##bot', 1), ('10', 1), ('presidential', 1), ('hybrid', 1), ('fans', 1), ('duncan', 1), ('kemp', 1), ('rockets', 1), ('yao', 1), ('homosexuality', 1), ('bryant', 1), ('antonio', 1), ('celtics', 1), ('kg', 1), ('##neck', 1), ('tackle', 1), ('cameron', 1), ('migrant', 1), ('bog', 1), ('jew', 1), ('hating', 1), ('asshole', 1), ('stood', 1), ('judaism', 1), ('lodge', 1), ('##pressed', 1), ('completely', 1), ('##ade', 1), ('binding', 1), ('mild', 1), ('##har', 1), ('slash', 1), ('straight', 1), ('couples', 1), ('hands', 1), ('lineup', 1), ('disclosure', 1), ('hardcore', 1), ('##ville', 1), ('onstage', 1), ('sammy', 1), ('##ell', 1), ('hai', 1), ('##kou', 1), ('fortress', 1), ('macro', 1), ('dan', 1), ('mauritius', 1), ('wc', 1), ('federer', 1), ('rod', 1), ('italy', 1), ('doses', 1), ('dismissal', 1), ('##ough', 1), ('german', 1), ('taxpayer', 1), ('european', 1), ('##uding', 1), ('greek', 1), ('euro', 1), ('debts', 1), ('rack', 1), ('courtroom', 1), ('maneuver', 1), ('asteroid', 1), ('maj', 1), ('polls', 1), ('cycle', 1), ('brunswick', 1), ('functioning', 1), ('types', 1), ('thailand', 1), ('champs', 1), ('ren', 1), ('pei', 1), ('helicopter', 1), ('planet', 1), ('##cast', 1), ('dated', 1), ('##yn', 1), ('rand', 1), ('planets', 1), ('start', 1), ('volunteered', 1), ('john', 1), ('kerry', 1), ('primary', 1), ('##ram', 1), ('inferno', 1), ('challenges', 1), ('mtv', 1), ('##sburg', 1), ('challenge', 1), ('alliance', 1), ('capitol', 1), ('salisbury', 1), ('##wl', 1), ('dt', 1), ('##vot', 1), ('imp', 1), ('##eri', 1), ('##um', 1), ('shooters', 1), ('mon', 1), ('societies', 1), ('drug', 1), ('afghanistan', 1), ('typing', 1), ('disappointing', 1), ('##int', 1), ('##grass', 1), ('sweet', 1), ('keep', 1), ('butterfly', 1), ('long', 1), ('seeing', 1), ('whatever', 1), ('fashioned', 1), ('morales', 1), ('rooster', 1), ('##tee', 1), ('circle', 1), ('##jer', 1), ('chose', 1), ('slug', 1), ('singapore', 1), ('cartoon', 1), ('elsa', 1), ('polar', 1), ('pattern', 1), ('er', 1), ('##one', 1), ('corp', 1), ('ideas', 1), ('##tip', 1), ('##ste', 1), ('##ni', 1), ('##ques', 1), ('concept', 1), ('##ho', 1), ('douglas', 1), ('loop', 1), ('agency', 1), ('used', 1), ('##rh', 1), ('##vin', 1), ('##ro', 1), ('1849', 1), ('107', 1), ('##6', 1), ('morrow', 1), ('##ind', 1), ('oblivion', 1), ('doors', 1), ('grateful', 1), ('##nor', 1), ('ryu', 1), ('flows', 1), ('sunderland', 1), ('##gol', 1), ('bengal', 1), ('soul', 1), ('sword', 1), ('feel', 1), ('old', 1), ('management', 1), ('wars', 1), ('fifth', 1), ('prince', 1), ('waterloo', 1), ('def', 1), ('##inate', 1), ('ned', 1), ('heads', 1), ('##ws', 1), ('palestine', 1), ('israelis', 1), ('elections', 1), ('bombing', 1), ('beaches', 1), ('interested', 1), ('pawn', 1), ('##iard', 1), ('shin', 1), ('heath', 1), ('##tu', 1), ('##ko', 1), ('creatures', 1), ('legacy', 1), ('coco', 1), ('terminus', 1), ('##lia', 1), ('heaven', 1), ('marrying', 1), ('bible', 1), ('diagram', 1), ('##tr', 1), ('##uth', 1), ('chase', 1), ('summer', 1), ('##use', 1), ('cut', 1), ('food', 1), ('journey', 1), ('carrier', 1), ('contract', 1), ('pork', 1), ('dust', 1), ('lincoln', 1), ('accomplishments', 1), ('papa', 1), ('dish', 1), ('shoot', 1), ('multiple', 1), ('towns', 1), ('precinct', 1), ('ada', 1), ('essential', 1), ('cuckoo', 1), ('horse', 1), ('alba', 1), ('odin', 1), ('jakob', 1), ('jp', 1), ('ik', 1), ('unit', 1), ('fabric', 1), ('taxpayers', 1), ('payroll', 1), ('##class', 1), ('social', 1), ('fund', 1), ('paragraph', 1), ('##fu', 1), ('oval', 1), ('vital', 1), ('institutions', 1), ('##old', 1), ('injury', 1), ('##sque', 1), ('bound', 1), ('girlfriend', 1), ('selling', 1), ('outdoor', 1), ('##tish', 1), ('##rter', 1), ('vanilla', 1), ('glad', 1), ('##tor', 1), ('debt', 1), ('graduate', 1), ('dancer', 1), ('serious', 1), ('strip', 1), ('tunnels', 1), ('toys', 1), ('ob', 1), ('##gy', 1), ('stress', 1), ('generally', 1), ('rpg', 1), ('##world', 1), ('##bor', 1), ('ran', 1), ('immigrant', 1), ('told', 1), ('##our', 1), ('delhi', 1), ('##mum', 1), ('##bai', 1), ('over', 1), ('safe', 1), ('##tha', 1), ('fell', 1), ('agree', 1), ('##it', 1), ('coke', 1), ('##lves', 1), ('western', 1), ('##q', 1), ('bands', 1), ('len', 1), ('heartbreak', 1), ('by', 1), ('lion', 1), ('christmas', 1), ('terminal', 1), ('fairbanks', 1), ('anchorage', 1), ('politics', 1), ('rancho', 1), ('ground', 1), ('##lch', 1), ('ported', 1), ('mm', 1), ('shooting', 1), ('orange', 1), ('watching', 1), ('scott', 1), ('columbus', 1), ('carter', 1), ('ducks', 1), ('anaheim', 1), ('##rm', 1), ('##ette', 1), ('offensive', 1), ('itv', 1), ('optic', 1), ('descent', 1), ('banana', 1), ('trophies', 1), ('gum', 1), ('zombies', 1), ('##oz', 1), ('galactic', 1), ('property', 1), ('lana', 1), ('vo', 1), ('navy', 1), ('cereal', 1), ('bridge', 1), ('##os', 1), ('##mura', 1), ('karin', 1), ('##gu', 1), ('minerva', 1), ('##au', 1), ('boom', 1), ('rifles', 1), ('french', 1), ('programme', 1), ('arcade', 1), ('quest', 1), ('##tucket', 1), ('defiance', 1), ('##xa', 1), ('real', 1), ('big', 1), ('##ble', 1), ('##ms', 1), ('4', 1), ('besides', 1), ('sheep', 1), ('##hunter', 1), ('scarlet', 1), ('crusader', 1), ('boulder', 1), ('##fi', 1), ('episodes', 1), ('milo', 1), ('ussr', 1), ('russia', 1), ('sul', 1), ('ottomans', 1), ('leftist', 1), ('##dan', 1), ('geek', 1), ('##gn', 1), ('individual', 1), ('net', 1), ('##runner', 1), ('smash', 1), ('##uso', 1), ('castles', 1), ('##girl', 1), ('sets', 1), ('payment', 1), ('happily', 1), ('accept', 1), ('sellers', 1), ('seller', 1), ('wearing', 1), ('spectator', 1), ('ton', 1), ('##lick', 1), ('pubs', 1), ('##rates', 1), ('patch', 1), ('pack', 1), ('spells', 1), ('popularity', 1), ('clyde', 1), ('##fr', 1), ('##og', 1), ('predator', 1), ('##jan', 1), ('modeling', 1), ('##feld', 1), ('storylines', 1), ('##lines', 1), ('tie', 1), ('destroyers', 1), ('spartan', 1), ('##ud', 1), ('disney', 1), ('scenes', 1), ('listen', 1), ('students', 1), ('officers', 1), ('mer', 1), ('##ica', 1), ('qi', 1), ('joy', 1), ('##ete', 1), ('nano', 1), ('atlantis', 1), ('##les', 1), ('any', 1), ('vampires', 1), ('dammit', 1), ('witchcraft', 1), ('strategy', 1), ('cantonese', 1), ('princess', 1), ('sparkle', 1), ('sounds', 1), ('independence', 1), ('flint', 1), ('offence', 1), ('beau', 1), ('midi', 1), ('lance', 1), ('armstrong', 1), ('survival', 1), ('disease', 1), ('##ivo', 1), ('true', 1), ('roman', 1), ('hr', 1), ('imperial', 1), ('beard', 1), ('languages', 1), ('pre', 1), ('colonies', 1), ('british', 1), ('conflict', 1), ('seven', 1), ('colonists', 1), ('reagan', 1), ('falkland', 1), ('duty', 1), ('##ume', 1), ('##ek', 1), ('##ent', 1), ('##roll', 1), ('##trip', 1), ('##53', 1), ('billy', 1), ('##rber', 1), ('fringe', 1), ('metro', 1), ('whoever', 1), ('store', 1), ('##bet', 1), ('removed', 1), ('##up', 1), ('##date', 1), ('whole', 1), ('bone', 1), ('np', 1), ('guide', 1), ('ile', 1), ('rat', 1), ('pang', 1), ('beth', 1), ('##game', 1), ('todd', 1), ('##gen', 1), ('words', 1), ('##inas', 1), ('pump', 1), ('miners', 1), ('##rs', 1), ('defense', 1), ('representing', 1), ('fellow', 1), ('jackson', 1), ('##vill', 1), ('saturday', 1), ('##culus', 1), ('dart', 1), ('##hh', 1), ('##ater', 1), ('##unt', 1), ('##ther', 1), ('hut', 1), ('unlock', 1), ('outfit', 1), ('##yr', 1), ('##nda', 1), ('fling', 1), ('mangrove', 1), ('##kari', 1), ('algae', 1), ('mid', 1), ('temperament', 1), ('sweden', 1), ('reef', 1), ('shots', 1), ('marina', 1), ('##uram', 1), ('bid', 1), ('##oof', 1), ('mask', 1), ('find', 1), ('superman', 1), ('visited', 1), ('voices', 1), ('disneyland', 1), ('misty', 1), ('advertisement', 1), ('quan', 1), ('taxi', 1), ('cv', 1), ('alright', 1), ('particle', 1), ('friction', 1), ('franklin', 1), ('outlaw', 1), ('fact', 1), ('anything', 1), ('happening', 1), ('lines', 1), ('mostly', 1), ('particular', 1), ('temple', 1), ('dancing', 1), ('foot', 1), ('##ose', 1), ('five', 1), ('##pine', 1), ('troubled', 1), ('##anger', 1), ('ocean', 1), ('cia', 1), ('copies', 1), ('abortion', 1), ('marriages', 1), ('movies', 1), ('##christ', 1), ('noon', 1), ('regardless', 1), ('radio', 1), ('lab', 1), ('named', 1), ('highway', 1), ('brian', 1), ('##gil', 1), ('london', 1), ('jose', 1), ('witch', 1), ('##fall', 1), ('espn', 1), ('wb', 1), ('doing', 1), ('sierra', 1), ('woman', 1), ('##inge', 1), ('teen', 1), ('opponent', 1), ('arbor', 1), ('trick', 1), ('euros', 1), ('library', 1), ('baptism', 1), ('dinner', 1), ('##we', 1), ('uv', 1), ('chronicles', 1), ('ranger', 1), ('favourites', 1), ('glory', 1), ('badger', 1), ('##ych', 1), ('##wood', 1), ('york', 1), ('homeland', 1), ('saw', 1), ('##bana', 1), ('##king', 1), ('researched', 1), ('kitty', 1), ('doo', 1), ('mk', 1), ('classes', 1), ('ford', 1), ('fiesta', 1), ('##hall', 1), ('q', 1), ('##ash', 1), ('##qa', 1), ('bermuda', 1), ('ken', 1), ('obama', 1), ('minnesota', 1), ('spouse', 1), ('congressional', 1), ('candidate', 1), ('voting', 1), ('walker', 1), ('lanes', 1), ('wright', 1), ('chiefs', 1), ('hopkins', 1), ('500', 1), ('computers', 1), ('##eg', 1), ('certified', 1), ('semi', 1), ('zealand', 1), ('satin', 1), ('foundation', 1), ('vision', 1), ('minerals', 1), ('suns', 1), ('vampire', 1), ('bram', 1), ('sacrifices', 1), ('field', 1), ('destiny', 1), ('dante', 1), ('rai', 1), ('ultra', 1), ('georgia', 1), ('core', 1), ('skins', 1), ('brazilian', 1), ('pulse', 1), ('ara', 1), ('twitch', 1), ('ap', 1), ('champion', 1), ('server', 1), ('kat', 1), ('against', 1), ('explorers', 1), ('##roy', 1), ('bliss', 1), ('dusk', 1), ('benson', 1), ('folks', 1), ('vocal', 1), ('##back', 1), ('nick', 1), ('childhood', 1), ('jobs', 1), ('gandhi', 1), ('per', 1), ('hire', 1), ('employee', 1), ('sprint', 1), ('sprinted', 1), ('multiplayer', 1), ('member', 1), ('##lea', 1), ('mia', 1), ('##with', 1), ('musical', 1), ('diary', 1), ('wild', 1), ('##ling', 1), ('musicians', 1), ('stage', 1), ('##just', 1), ('madness', 1), ('##ph', 1), ('##sl', 1), ('wed', 1), ('##bs', 1), ('##port', 1), ('information', 1), ('usa', 1), ('charm', 1), ('una', 1), ('##at', 1), ('ng', 1), ('siege', 1), ('railroad', 1), ('blade', 1), ('souls', 1), ('young', 1), ('del', 1), ('restoration', 1), ('angel', 1), ('list', 1), ('##wr', 1), ('##rano', 1), ('windsor', 1), ('ontario', 1), ('saskatchewan', 1), ('norway', 1), ('cb', 1), ('sexual', 1), ('whore', 1), ('downtown', 1), ('ave', 1), ('saddle', 1), ('somerset', 1), ('colour', 1), ('finale', 1), ('dani', 1), ('struggle', 1), ('sam', 1), ('trek', 1), ('jurassic', 1), ('sunday', 1), ('pillow', 1), ('dew', 1), ('owens', 1), ('salad', 1), ('##gur', 1), ('##ski', 1), ('##flower', 1), ('interface', 1), ('maru', 1), ('adventures', 1), ('2007', 1), ('po', 1), ('##men', 1), ('ll', 1), ('##ety', 1), ('##ista', 1), ('affordable', 1), ('armour', 1), ('chaos', 1), ('wilderness', 1), ('iii', 1), ('wonderful', 1), ('brave', 1), ('wasps', 1), ('communities', 1), ('blacks', 1), ('corporate', 1), ('##olar', 1), ('##ght', 1), ('wii', 1), ('power', 1), ('around', 1), ('95', 1), ('pay', 1), ('##pal', 1), ('air', 1), ('own', 1), ('deployment', 1), ('culture', 1), ('sail', 1), ('learning', 1), ('vice', 1), ('##ok', 1), ('##mar', 1), ('##ij', 1), ('##uan', 1), ('olympic', 1), ('lifts', 1), ('##sies', 1), ('cp', 1), ('visual', 1), ('efficiency', 1), ('##du', 1), ('osborn', 1), ('franco', 1), ('performance', 1), ('miles', 1), ('sy', 1), ('##iot', 1), ('films', 1), ('payne', 1), ('2010', 1), ('##11', 1), ('acc', 1), ('jam', 1), ('martin', 1), ('jordan', 1), ('purdue', 1), ('need', 1), ('cart', 1), ('##gin', 1), ('syrian', 1), ('kurdish', 1), ('carl', 1), ('genocide', 1), ('turkish', 1), ('islamic', 1), ('rallies', 1), ('cyprus', 1), ('wrestlemania', 1), ('feud', 1), ('les', 1), ('##nar', 1), ('##bron', 1), ('sitting', 1), ('robot', 1), ('##av', 1), ('paranormal', 1), ('tigers', 1), ('##rock', 1), ('##ies', 1), ('plate', 1), ('grandparents', 1), ('shadow', 1), ('gan', 1), ('##bar', 1), ('hatch', 1), ('##ged', 1), ('ama', 1), ('##ny', 1), ('relatively', 1), ('kia', 1), ('whereas', 1), ('speaking', 1), ('rematch', 1), ('##lc', 1), ('rings', 1), ('soap', 1), ('tna', 1), ('aj', 1), ('styles', 1), ('triple', 1), ('stephanie', 1), ('dade', 1), ('marin', 1), ('instead', 1), ('box', 1), ('##box', 1), ('out', 1), ('jax', 1), ('shy', 1), ('##vana', 1), ('idiot', 1), ('lc', 1), ('lulu', 1), ('topic', 1), ('workshop', 1), ('carry', 1), ('single', 1), ('landlord', 1), ('##year', 1), ('##jima', 1), ('raid', 1), ('tr', 1), ('zero', 1), ('wee', 1), ('##uf', 1), ('thomas', 1), ('##gs', 1), ('outer', 1), ('patrol', 1), ('wish', 1), ('##maker', 1), ('ji', 1), ('##rac', 1), ('stevens', 1), ('##his', 1), ('##hma', 1), ('wing', 1), ('##ull', 1), ('berry', 1), ('##rik', 1), ('dreams', 1), ('nike', 1), ('concussion', 1), ('alabama', 1), ('ten', 1), ('wales', 1), ('##fy', 1), ('purple', 1), ('##wk', 1), ('##rag', 1), ('zu', 1), ('##zy', 1), ('ne', 1), ('cain', 1), ('championship', 1), ('ufc', 1), ('vic', 1), ('base', 1), ('submission', 1), ('thorn', 1), ('education', 1), ('sanctuary', 1), ('sharp', 1), ('##ln', 1), ('draw', 1), ('##eal', 1), ('##un', 1), ('knight', 1), ('trident', 1), ('tori', 1), ('grammar', 1), ('ox', 1), ('##bridge', 1), ('##cz', 1), ('##uk', 1), ('hmm', 1), ('cheers', 1), ('release', 1), ('percentage', 1), ('qualification', 1), ('international', 1), ('most', 1), ('utterly', 1), ('##ions', 1), ('registered', 1), ('ic', 1), ('scenarios', 1), ('##mart', 1), ('bachelor', 1), ('eligible', 1), ('hit', 1), ('humour', 1), ('feels', 1), ('co', 1), ('poor', 1), ('##cake', 1), ('fucked', 1), ('##oto', 1), ('anthropological', 1), ('flew', 1), ('marks', 1), ('70', 1), ('audio', 1), ('bose', 1), ('score', 1), ('playstation', 1), ('beats', 1), ('en', 1), ('##elo', 1), ('##ops', 1), ('captain', 1), ('ars', 1), ('morgan', 1), ('write', 1), ('circumstance', 1), ('bp', 1), ('websites', 1), ('kingdom', 1), ('throne', 1), ('##oe', 1), ('invasion', 1), ('occupation', 1), ('##oes', 1), ('islander', 1), ('software', 1), ('diverse', 1), ('artists', 1), ('portraits', 1), ('50', 1), ('furry', 1), ('healer', 1), ('healing', 1), ('monks', 1), ('wind', 1), ('##ss', 1), ('size', 1), ('highlight', 1), ('mil', 1), ('breasts', 1), ('midwest', 1), ('gorgeous', 1), ('merit', 1), ('badge', 1), ('tools', 1), ('dick', 1), ('abandon', 1), ('##mere', 1), ('direct', 1), ('lu', 1), ('andrea', 1), ('andrew', 1), ('fan', 1), ('inn', 1), ('express', 1), ('fold', 1), ('sparta', 1), ('ultimate', 1), ('tattoo', 1), ('ant', 1), ('rockies', 1), ('louis', 1), ('fu', 1), ('mall', 1), ('##ive', 1), ('##pia', 1), ('morning', 1), ('kill', 1), ('##eia', 1), ('##des', 1), ('martian', 1), ('000', 1), ('kate', 1), ('beck', 1), ('##ale', 1), ('##wg', 1), ('violent', 1), ('urban', 1), ('##ization', 1), ('cha', 1), ('##ppel', 1), ('##jack', 1), ('11', 1), ('right', 1), ('blue', 1), ('knitting', 1), ('sketches', 1), ('finger', 1), ('fountain', 1), ('handwriting', 1), ('##nto', 1), ('lions', 1), ('trilogy', 1), ('franchise', 1), ('##olo', 1), ('##vian', 1), ('##fur', 1), ('##helm', 1), ('rogue', 1), ('unity', 1), ('debates', 1), ('##sp', 1), ('whites', 1), ('##pel', 1), ('##pan', 1), ('##itic', 1), ('fairness', 1), ('stones', 1), ('deposit', 1), ('##bos', 1), ('longest', 1), ('recorded', 1), ('##gc', 1), ('russell', 1), ('centre', 1), ('pg', 1), ('slot', 1), ('balls', 1), ('fashion', 1), ('nevada', 1), ('hub', 1), ('bubba', 1), ('ni', 1), ('##gga', 1), ('mac', 1), ('cosmetics', 1), ('purchase', 1), ('parcel', 1), ('shop', 1), ('sydney', 1), ('mls', 1), ('jamal', 1), ('tonight', 1), ('elbow', 1), ('fiba', 1), ('dungeon', 1), ('##rey', 1), ('weather', 1), ('frank', 1), ('seamen', 1), ('oxygen', 1), ('executed', 1), ('sensor', 1), ('crop', 1), ('mp', 1), ('iso', 1), ('caravan', 1), ('action', 1), ('making', 1), ('creek', 1), ('princes', 1), ('ranch', 1), ('hoover', 1), ('birmingham', 1), ('bmw', 1), ('using', 1), ('##eme', 1), ('humans', 1), ('conclusion', 1), ('competitive', 1), ('saves', 1), ('aim', 1), ('pp', 1), ('dual', 1), ('wielding', 1), ('damage', 1), ('[CLS]', 1), ('##ust', 1), ('bae', 1), ('##tower', 1), ('another', 1), ('injured', 1), ('marko', 1), ('##elin', 1), ('organization', 1), ('##ban', 1), ('marc', 1), ('carey', 1), ('atlantic', 1), ('florida', 1), ('panthers', 1), ('writer', 1), ('office', 1), ('##ify', 1), ('grooves', 1), ('costume', 1), ('craft', 1), ('simpsons', 1), ('##nl', 1), ('civil', 1), ('mainstream', 1), ('else', 1), ('norton', 1), ('mary', 1), ('study', 1), ('shopping', 1), ('experiment', 1), ('worker', 1), ('labor', 1), ('concentration', 1), ('communist', 1), ('reds', 1), ('cole', 1), ('january', 1), ('mosque', 1), ('##ove', 1), ('karen', 1), ('jumper', 1), ('220', 1), ('ot', 1), ('##fin', 1), ('rio', 1), ('janeiro', 1), ('founders', 1), ('ru', 1), ('##iko', 1), ('loser', 1), ('drummer', 1), ('element', 1), ('dunn', 1), ('lips', 1), ('du', 1), ('##rn', 1), ('##way', 1), ('indie', 1), ('lip', 1), ('lavender', 1), ('##gre', 1), ('max', 1), ('iowa', 1), ('caucus', 1), ('bacon', 1), ('nashville', 1), ('##phy', 1), ('miller', 1), ('lit', 1), ('telegraph', 1), ('chicken', 1), ('values', 1), ('micro', 1), ('grams', 1), ('liter', 1), ('halloween', 1), ('teenagers', 1), ('adult', 1), ('til', 1), ('beer', 1), ('honey', 1), ('cruise', 1), ('buddhism', 1), ('##ldon', 1), ('lands', 1), ('earliest', 1), ('relationship', 1), ('holidays', 1), ('marriage', 1), ('shield', 1), ('defender', 1), ('##uz', 1), ('##unk', 1), ('##ach', 1), ('asset', 1), ('##to', 1), ('apart', 1), ('rear', 1), ('vengeance', 1), ('thermal', 1), ('optical', 1), ('strains', 1), ('##ama', 1), ('gears', 1), ('##win', 1), ('##kle', 1), ('key', 1), ('##wil', 1), ('infinite', 1), ('blake', 1), ('jd', 1), ('crypt', 1), ('exposition', 1), ('buffalo', 1), ('jim', 1), ('##sco', 1), ('##tty', 1), ('richmond', 1), ('shops', 1), ('cd', 1), ('lounge', 1), ('##pes', 1), ('nickel', 1), ('prophet', 1), ('traveled', 1), ('millennia', 1), ('chorus', 1), ('roof', 1), ('ul', 1), ('##iam', 1), ('##if', 1), ('##mia', 1), ('bird', 1), ('poem', 1), ('av', 1), ('harmony', 1), ('##se', 1), ('age', 1), ('achievement', 1), ('boogie', 1), ('worries', 1), ('harbor', 1), ('royal', 1), ('crabs', 1), ('havana', 1), ('neighborhoods', 1), ('##ost', 1), ('tours', 1), ('whiskey', 1), ('museums', 1), ('##sport', 1), ('##piece', 1), ('##mora', 1), ('##bil', 1), ('models', 1), ('skin', 1), ('tones', 1), ('##ske', 1), ('##ren', 1), ('sk', 1), ('##ven', 1), ('wool', 1), ('van', 1), ('supports', 1), ('flex', 1), ('##position', 1), ('shia', 1), ('rulers', 1), ('bahrain', 1), ('taliban', 1), ('georgian', 1), ('fly', 1), ('##cha', 1), ('duo', 1), ('bark', 1), ('kind', 1), ('prime', 1), ('disliked', 1), ('skipped', 1), ('posting', 1), ('##uni', 1), ('##verse', 1), ('powder', 1), ('sq', 1), ('davis', 1), ('##osa', 1), ('##dal', 1), ('ireland', 1), ('##coll', 1), ('buck', 1), ('pier', 1), ('##iel', 1), ('##ous', 1), ('##hip', 1), ('places', 1), ('multi', 1), ('family', 1), ('baghdad', 1), ('farms', 1), ('tun', 1), ('##dra', 1), ('##fish', 1), ('leaders', 1), ('##hr', 1), ('blockbuster', 1), ('ezekiel', 1), ('savage', 1), ('crossing', 1), ('tile', 1), ('io', 1), ('notch', 1), ('query', 1), ('sql', 1), ('##qua', 1), ('##za', 1), ('##oning', 1), ('normal', 1), ('##ex', 1), ('##hl', 1), ('step', 1), ('sakura', 1), ('nad', 1), ('mania', 1), ('fl', 1), ('bracket', 1), ('malaysia', 1), ('roosevelt', 1), ('sunset', 1), ('joker', 1), ('piracy', 1), ('##mot', 1), ('##ining', 1), ('tran', 1), ('hole', 1), ('such', 1), ('org', 1), ('##inal', 1), ('cutting', 1), ('sac', 1), ('baron', 1), ('shore', 1), ('vs', 1), ('res', 1), ('version', 1), ('paradise', 1), ('emerson', 1), ('denton', 1), ('stone', 1), ('truck', 1), ('exotic', 1), ('##pad', 1), ('pixels', 1), ('##zon', 1), ('tidal', 1), ('surveys', 1), ('puzzles', 1), ('three', 1), ('##quest', 1), ('question', 1), ('questions', 1), ('concert', 1), ('chester', 1), ('eagles', 1), ('tim', 1), ('##hem', 1), ('##oth', 1), ('corner', 1), ('mile', 1), ('axes', 1), ('elephant', 1), ('ones', 1), ('guns', 1), ('catch', 1), ('shi', 1), ('##lle', 1), ('##lag', 1), ('weapons', 1), ('unarmed', 1), ('strike', 1), ('encounter', 1), ('building', 1), ('unmarked', 1), ('spy', 1), ('##cos', 1), ('athletes', 1), ('pe', 1), ('##fles', 1), ('vortex', 1), ('omega', 1), ('gone', 1), ('ex', 1), ('##cit', 1), ('br', 1), ('wizard', 1), ('postal', 1), ('xi', 1), ('cake', 1), ('##day', 1), ('##cent', 1), ('parenting', 1), ('las', 1), ('##oo', 1), ('hilton', 1), ('##olio', 1), ('weighing', 1), ('mw', 1), ('bien', 1), ('##ras', 1), ('dir', 1), ('terra', 1), ('searched', 1), ('talking', 1), ('##lings', 1), ('##ear', 1), ('##ching', 1), ('##text', 1), ('colorado', 1), ('dollar', 1), ('bitch', 1), ('principal', 1), ('##ure', 1), ('test', 1), ('mystery', 1), ('boxes', 1), ('perform', 1), ('fairly', 1), ('general', 1), ('courts', 1), ('face', 1), ('##tl', 1), ('##ife', 1), ('type', 1), ('sports', 1), ('cowboy', 1), ('bent', 1), ('albeit', 1), ('traditional', 1), ('casino', 1), ('reserve', 1), ('je', 1), ('##rvis', 1), ('harper', 1), ('##hore', 1), ('##kyu', 1), ('experiences', 1), ('##ters', 1), ('##vid', 1), ('wheat', 1), ('alter', 1), ('identity', 1), ('shirley', 1), ('absolutely', 1), ('ham', 1), ('zac', 1), ('##fighting', 1), ('medium', 1), ('pop', 1), ('servers', 1), ('graves', 1), ('champions', 1), ('##cs', 1), ('ze', 1), ('##tea', 1), ('##pi', 1), ('##12', 1), ('lucky', 1), ('cash', 1), ('domains', 1), ('moved', 1), ('name', 1), ('##che', 1), ('invention', 1), ('##fo', 1), ('oman', 1), ('##yte', 1), ('robert', 1), ('rules', 1), ('##hyl', 1), ('ems', 1), ('leaf', 1), ('egg', 1), ('meridian', 1), ('floods', 1), ('cases', 1), ('lia', 1), ('peel', 1), ('gifts', 1), ('limited', 1), ('edition', 1), ('forget', 1), ('##ign', 1), ('magical', 1), ('say', 1), ('freddie', 1)]\n"
     ]
    }
   ],
   "source": [
    "keyword = sorted(masked_token_freq.items(), key=lambda x: x[1], reverse=True)\n",
    "print(keyword)\n",
    "\n",
    "masked_words = [kw for kw, freq in keyword]\n",
    "# print(masked_words)"
   ]
  },
  {
   "cell_type": "code",
   "execution_count": 10,
   "id": "ba4aa0e1-125a-4343-8cd1-5fd28af792db",
   "metadata": {},
   "outputs": [],
   "source": [
    "with open(f\"./topatt_masked_words.txt\", \"w\") as f:\n",
    "    for word in masked_words:\n",
    "        f.write(word + \"\\n\")"
   ]
  }
 ],
 "metadata": {
  "kernelspec": {
   "display_name": "jakrapop_nlu",
   "language": "python",
   "name": "jakrapop_nlu"
  },
  "language_info": {
   "codemirror_mode": {
    "name": "ipython",
    "version": 3
   },
   "file_extension": ".py",
   "mimetype": "text/x-python",
   "name": "python",
   "nbconvert_exporter": "python",
   "pygments_lexer": "ipython3",
   "version": "3.9.4"
  }
 },
 "nbformat": 4,
 "nbformat_minor": 5
}
