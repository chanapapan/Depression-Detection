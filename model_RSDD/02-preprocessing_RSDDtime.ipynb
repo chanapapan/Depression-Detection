{
 "cells": [
  {
   "cell_type": "markdown",
   "metadata": {},
   "source": [
    "# Choose Dataset"
   ]
  },
  {
   "cell_type": "code",
   "execution_count": 42,
   "metadata": {},
   "outputs": [
    {
     "name": "stdout",
     "output_type": "stream",
     "text": [
      "depression time 3 month\n"
     ]
    }
   ],
   "source": [
    "d_class      = 'depression' # / 'control'\n",
    "\n",
    "dataset_type = 'time'\n",
    "month        = 3\n",
    "\n",
    "print(d_class, dataset_type, month, 'month')\n",
    "\n",
    "##############################################\n",
    "\n",
    "import numpy as np\n",
    "import pandas as pd\n",
    "pd.options.mode.chained_assignment = None"
   ]
  },
  {
   "cell_type": "markdown",
   "metadata": {},
   "source": [
    "## Load raw text of each tweet with user ID"
   ]
  },
  {
   "cell_type": "code",
   "execution_count": null,
   "metadata": {},
   "outputs": [],
   "source": [
    "pd.options.mode.chained_assignment = None\n",
    "\n",
    "# d1_text contain text of each tweets\n",
    "d1_text = pd.read_csv(f'data_{dataset_type}/{d_class}/raw_{month}m.csv', sep='|', header = 0, lineterminator='\\n', dtype= str, index_col=False)\n",
    "d1_text[\"user_id\"] = d1_text['user_id'].apply(pd.to_numeric)\n",
    "d1_text.head()"
   ]
  },
  {
   "cell_type": "code",
   "execution_count": 21,
   "metadata": {},
   "outputs": [
    {
     "name": "stdout",
     "output_type": "stream",
     "text": [
      "(470356, 2)\n"
     ]
    }
   ],
   "source": [
    "print(d1_text.shape)"
   ]
  },
  {
   "cell_type": "code",
   "execution_count": 22,
   "metadata": {},
   "outputs": [
    {
     "data": {
      "text/plain": [
       "3000"
      ]
     },
     "execution_count": 22,
     "metadata": {},
     "output_type": "execute_result"
    }
   ],
   "source": [
    "len(d1_text['user_id'].unique())"
   ]
  },
  {
   "cell_type": "code",
   "execution_count": 23,
   "metadata": {},
   "outputs": [],
   "source": [
    "d1_text['text'].to_csv(f'data_{dataset_type}/{d_class}/text_only_{month}m.csv', index=False, sep=\"|\", line_terminator='\\n', header = False)\n",
    "d1_text['user_id'].to_csv(f'data_{dataset_type}/{d_class}/user_id_{month}m.csv', index=False, sep=\"|\", line_terminator='\\n', header = False)"
   ]
  },
  {
   "cell_type": "markdown",
   "metadata": {},
   "source": [
    "## STOP HERE !!!!\n",
    "Convert text_only.csv to .txt"
   ]
  },
  {
   "cell_type": "code",
   "execution_count": 43,
   "metadata": {},
   "outputs": [
    {
     "name": "stdout",
     "output_type": "stream",
     "text": [
      "Saved the cleaned tweets to:data_time/depression/29052022_191051063258_DJdriI30nvaN_text_only_3m.txt\n",
      "Success !!!\n"
     ]
    }
   ],
   "source": [
    "# Preprocessor can REMOVE these things\n",
    "# URL\t            p.OPT.URL\n",
    "# Mention\t        p.OPT.MENTION\n",
    "# Hashtag\t        p.OPT.HASHTAG\n",
    "# Reserved Words\tp.OPT.RESERVED for twitters ex RT\n",
    "# Emoji\t            p.OPT.EMOJI\n",
    "# Smiley\t        p.OPT.SMILEY\n",
    "\n",
    "import preprocessor as p\n",
    "\n",
    "input_file_name = f'data_{dataset_type}/{d_class}/text_only_{month}m.txt'\n",
    "p.clean_file(input_file_name, p.OPT.URL, p.OPT.MENTION, p.OPT.HASHTAG, p.OPT.RESERVED, p.OPT.EMOJI, p.OPT.SMILEY)\n",
    "print(\"Success !!!\")\n",
    "\n",
    "# number of line is still equal to the original d1_text"
   ]
  },
  {
   "cell_type": "markdown",
   "metadata": {},
   "source": [
    "# Rename to pclean.txt !!!"
   ]
  },
  {
   "cell_type": "code",
   "execution_count": 47,
   "metadata": {},
   "outputs": [],
   "source": [
    "import re\n",
    "import string\n",
    "from bs4 import BeautifulSoup\n",
    "from html import unescape"
   ]
  },
  {
   "cell_type": "code",
   "execution_count": 48,
   "metadata": {},
   "outputs": [],
   "source": [
    "## NEW 05/2022 Ver.\n",
    "\n",
    "def preprocess(row):\n",
    "    \n",
    "    row = re.sub(\"\\[\\]\\((.*?)\\)\", \"\", row) # remove these things that comes with Reddit [](/trixiesmug)\n",
    "    row = re.sub(\"\\\\r\\\\\\w+\",'', row) # remove these things \\r\\books\n",
    "    row = re.sub(\"r/\\w+\",'', row) # remove these things r/books\n",
    "    \n",
    "    # Unescape HTML tags\n",
    "    row = BeautifulSoup(unescape(row), 'lxml').text\n",
    "    \n",
    "    # Remove all punctuations except . ! ? $ % & '\n",
    "    row = re.sub(r\"\"\"[()#[\\]#*+\\-/:;<=>@[\\]^_`{|}~\"\\\\]\"\"\", \"\", row)\n",
    "    # Remove Duplicated punctuations \n",
    "    row = re.sub(r\"\"\"(?<=[^!\"#$%&'()*+, -./:;<=>?@[\\]^_`{|}~][!\"#$%&'()*+, -./:;<=>?@[\\]^_`{|}~])[!\"#$%&'()*+, -./:;<=>?@[\\]^_`{|}~ ]+(?<! )\"\"\", \"\", row)\n",
    "    row = re.sub(r'!{2,}', r'!', row)\n",
    "    row = re.sub(r'\\.{2,}', r'.', row)\n",
    "    row = re.sub(r'\\&{2,}', r'&', row)\n",
    "    row = re.sub(r'\\%{2,}', r'%', row)\n",
    "    row = re.sub(r'\\?{2,}', r'?', row)\n",
    "    row = re.sub(r'\\${2,}', r'$', row)\n",
    "\n",
    "    # Lowercase\n",
    "    row = ' '.join([w.lower() for w in row.split()])\n",
    "    \n",
    "    # Remove extra spaces\n",
    "    row = ' '.join([w for w in row.split()])\n",
    "\n",
    "    return row"
   ]
  },
  {
   "cell_type": "code",
   "execution_count": 49,
   "metadata": {},
   "outputs": [],
   "source": [
    "input_file = f'data_{dataset_type}/{d_class}/pclean_{month}m_0529.txt'\n",
    "output_file = f'data_{dataset_type}/{d_class}/finclean_{month}m_0529.txt'\n",
    "\n",
    "with open(input_file) as f, open(output_file, 'w') as o:\n",
    "    lines = f.readlines()\n",
    "    # print(len(lines))\n",
    "    for line in lines:\n",
    "        # print(line)\n",
    "        cleaned = preprocess(line)\n",
    "        \n",
    "        o.write(cleaned + \"\\n\")"
   ]
  }
 ],
 "metadata": {
  "interpreter": {
   "hash": "a54ebe46dc67c0b0016e368835037c988a8dce633f341e79a61a84613b212514"
  },
  "kernelspec": {
   "display_name": "Python 3",
   "language": "python",
   "name": "python3"
  },
  "language_info": {
   "codemirror_mode": {
    "name": "ipython",
    "version": 3
   },
   "file_extension": ".py",
   "mimetype": "text/x-python",
   "name": "python",
   "nbconvert_exporter": "python",
   "pygments_lexer": "ipython3",
   "version": "3.9.4"
  }
 },
 "nbformat": 4,
 "nbformat_minor": 4
}
