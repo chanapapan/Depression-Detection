{
 "cells": [
  {
   "cell_type": "markdown",
   "metadata": {},
   "source": [
    "### RSDD-Time : Control users only"
   ]
  },
  {
   "cell_type": "code",
   "execution_count": 1,
   "metadata": {},
   "outputs": [],
   "source": [
    "import csv, os \n",
    "import jsonlines\n",
    "from IPython.display import clear_output\n",
    "\n",
    "def save_result_csv( _header_name, _row_data, _path ):\n",
    "    filename    = _path\n",
    "    mode        = 'a' if os.path.exists(filename) else 'w'\n",
    "    with open(f\"{filename}\", mode) as myfile:\n",
    "        fileEmpty   = os.stat(filename).st_size == 0\n",
    "        writer      = csv.DictWriter(myfile, delimiter='|', lineterminator='\\n',fieldnames=_header_name)\n",
    "        if fileEmpty:\n",
    "            writer.writeheader()  # file doesn't exist yet, write a header\n",
    "        row_dic = dict(zip(_header_name, _row_data))\n",
    "        writer.writerow( row_dic )\n",
    "        myfile.close()"
   ]
  },
  {
   "cell_type": "markdown",
   "metadata": {},
   "source": [
    "### Get unique user id"
   ]
  },
  {
   "cell_type": "code",
   "execution_count": 3,
   "metadata": {},
   "outputs": [
    {
     "name": "stdout",
     "output_type": "stream",
     "text": [
      "32014200\n"
     ]
    }
   ],
   "source": [
    "import pandas as pd\n",
    "import datetime\n",
    "from datetime import datetime\n",
    "from dateutil.relativedelta import relativedelta\n",
    "\n",
    "d1_text_path = f'../data_time/control/user_id_all.txt'\n",
    "with open(d1_text_path) as text_file:\n",
    "    all_user_id = text_file.readlines()\n",
    "    print(len(all_user_id))"
   ]
  },
  {
   "cell_type": "code",
   "execution_count": 5,
   "metadata": {},
   "outputs": [
    {
     "name": "stdout",
     "output_type": "stream",
     "text": [
      "35753\n",
      "3000\n"
     ]
    }
   ],
   "source": [
    "# number of control users that we want\n",
    "n = 3000\n",
    "\n",
    "import random\n",
    "unique_user = list(set(all_user_id))\n",
    "print(len(unique_user))\n",
    "\n",
    "random_user_id = random.sample(unique_user, n)\n",
    "random_user_id = [int(x) for x in random_user_id]\n",
    "print(len(random_user_id))"
   ]
  },
  {
   "cell_type": "markdown",
   "metadata": {},
   "source": [
    "    Get 3000 users first"
   ]
  },
  {
   "cell_type": "markdown",
   "metadata": {},
   "source": [
    "### Get ALL posts from RANDOM USERS"
   ]
  },
  {
   "cell_type": "code",
   "execution_count": 6,
   "metadata": {},
   "outputs": [
    {
     "name": "stdout",
     "output_type": "stream",
     "text": [
      "3000\n",
      "2629442\n"
     ]
    }
   ],
   "source": [
    "import jsonlines\n",
    "from IPython.display import clear_output\n",
    "\n",
    "count_matched = 0\n",
    "count_posts = 0\n",
    "matched_id = []\n",
    "\n",
    "output_path = '../data_time/control/raw_random.csv'\n",
    "filepath = f'../OP_datasets/RSDD/training'\n",
    "\n",
    "header = ['user_id', 'created_time', 'text']\n",
    "with jsonlines.open(filepath) as reader:\n",
    "    \n",
    "    for obj in reader:\n",
    "        clear_output(wait=True)\n",
    "        my_dict = obj[0] # dict containing 'id', 'label, 'posts' as keys\n",
    "        user_id = int(my_dict['id'])\n",
    "        \n",
    "        if user_id in random_user_id : # if user_id is in random_user_id\n",
    "            count_matched += 1\n",
    "            matched_id.append(user_id)\n",
    "            \n",
    "            for each_post in my_dict['posts']:\n",
    "                count_posts += 1\n",
    "                created_time = datetime.fromtimestamp(int(each_post[0]))\n",
    "                text         = each_post[1]\n",
    "                text = ' '.join(str(text).split()) # remove consecutive whitespace \\n \\t \\s HERE instead of the dataframe later\n",
    "                row = [user_id, created_time, text]\n",
    "                save_result_csv( header, row, output_path)\n",
    "\n",
    "        print(count_matched)\n",
    "        print(count_posts)"
   ]
  },
  {
   "cell_type": "markdown",
   "metadata": {},
   "source": [
    "### Get Posts from Specific Timeframe\n",
    "( 1/ 2/ 3/ months after declared tweets)"
   ]
  },
  {
   "cell_type": "code",
   "execution_count": 7,
   "metadata": {},
   "outputs": [
    {
     "name": "stdout",
     "output_type": "stream",
     "text": [
      "(2629442, 3)\n"
     ]
    }
   ],
   "source": [
    "import pandas as pd\n",
    "import datetime\n",
    "from datetime import datetime\n",
    "from dateutil.relativedelta import relativedelta\n",
    "\n",
    "raw_text = pd.read_csv('../data_time/control/raw_random.csv', sep='|', header = 0, lineterminator='\\n', dtype= str, index_col=False)\n",
    "raw_text[\"user_id\"] = raw_text['user_id'].apply(pd.to_numeric)\n",
    "raw_text[\"created_time\"] = raw_text['created_time'].apply(pd.to_datetime)\n",
    "print(raw_text.shape)"
   ]
  },
  {
   "cell_type": "code",
   "execution_count": null,
   "metadata": {},
   "outputs": [],
   "source": [
    "raw_text.head()"
   ]
  },
  {
   "cell_type": "code",
   "execution_count": 9,
   "metadata": {},
   "outputs": [
    {
     "name": "stdout",
     "output_type": "stream",
     "text": [
      "1\n",
      "saved to :  ./data_time/control/raw_1m.csv\n",
      "247368\n",
      "3000\n",
      "0\n",
      "2\n",
      "saved to :  ./data_time/control/raw_2m.csv\n",
      "380996\n",
      "3000\n",
      "0\n",
      "3\n",
      "saved to :  ./data_time/control/raw_3m.csv\n",
      "470356\n",
      "3000\n",
      "0\n"
     ]
    }
   ],
   "source": [
    "months = [1, 2, 3]\n",
    "header = ['user_id', 'text']\n",
    "\n",
    "for month in months:\n",
    "    output_path = f'../data_time/control/raw_{month}m.csv'\n",
    "\n",
    "    count_posts = 0\n",
    "    count_match = 0\n",
    "    count_no_match = 0\n",
    "\n",
    "    for user_id in random_user_id:\n",
    "\n",
    "        all_this_user = raw_text.loc[raw_text['user_id'] == user_id] # get all posts of this user\n",
    "        user_declare_time = all_this_user.sample(n=1).iloc[0]['created_time'] # randomly select 1 posts as the beginning of time\n",
    "        \n",
    "        if all_this_user.shape[0] == 0:\n",
    "            count_no_match += 1\n",
    "            # print('no match found')\n",
    "            \n",
    "        count_match += 1\n",
    "        # print(all_this_user.shape)\n",
    "        \n",
    "        last_valid_time = user_declare_time + relativedelta(months=month)\n",
    "        # print(user_declare_time)\n",
    "        # print(last_valid_time)\n",
    "        valid_posts = all_this_user.loc[all_this_user['created_time'] >= user_declare_time]\n",
    "        valid_posts = valid_posts.loc[valid_posts['created_time'] <= last_valid_time]\n",
    "        \n",
    "        # print(valid_posts.shape)\n",
    "        \n",
    "        for idx in range(valid_posts.shape[0]):\n",
    "            count_posts += 1\n",
    "            user_id = valid_posts.iloc[idx,:].loc['user_id']\n",
    "            text = valid_posts.iloc[idx,:].loc['text']\n",
    "            text = ' '.join(str(text).split()) # IMPORTANT!! remove consecutive whitespace \\n \\t \\s\n",
    "            row = [user_id, text]\n",
    "            save_result_csv( header,  row,  output_path)\n",
    "        \n",
    "    print(month)\n",
    "    print(\"saved to : \", output_path)\n",
    "    print(count_posts)\n",
    "    print(count_match)\n",
    "    print(count_no_match)\n"
   ]
  },
  {
   "cell_type": "markdown",
   "metadata": {},
   "source": [
    "    1 Month\n",
    "    247368 posts\n",
    "     users\n",
    "    \n",
    "    2 Months\n",
    "    380996 posts\n",
    "     users\n",
    "    \n",
    "    3 Months\n",
    "    470356 posts\n",
    "     users"
   ]
  },
  {
   "cell_type": "markdown",
   "metadata": {},
   "source": []
  }
 ],
 "metadata": {
  "interpreter": {
   "hash": "a54ebe46dc67c0b0016e368835037c988a8dce633f341e79a61a84613b212514"
  },
  "kernelspec": {
   "display_name": "Python 3",
   "language": "python",
   "name": "python3"
  },
  "language_info": {
   "codemirror_mode": {
    "name": "ipython",
    "version": 3
   },
   "file_extension": ".py",
   "mimetype": "text/x-python",
   "name": "python",
   "nbconvert_exporter": "python",
   "pygments_lexer": "ipython3",
   "version": "3.9.4"
  }
 },
 "nbformat": 4,
 "nbformat_minor": 4
}
