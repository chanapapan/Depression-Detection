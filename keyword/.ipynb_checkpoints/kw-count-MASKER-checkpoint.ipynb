{
 "cells": [
  {
   "cell_type": "markdown",
   "id": "a1544661-18da-4ba4-8bb0-2b5b106cd90b",
   "metadata": {},
   "source": [
    "## MASKER count kw"
   ]
  },
  {
   "cell_type": "code",
   "execution_count": 1,
   "id": "5b69e523-5caf-4593-a54c-0fde5a57f245",
   "metadata": {},
   "outputs": [
    {
     "name": "stdout",
     "output_type": "stream",
     "text": [
      "device cuda:0\n"
     ]
    }
   ],
   "source": [
    "from torch.utils.tensorboard import SummaryWriter\n",
    "from transformers import BertModel, BertTokenizer\n",
    "from torch.utils.data import DataLoader\n",
    "from IPython.display import clear_output\n",
    "import torch.nn as nn\n",
    "import copy\n",
    "import sys, os, pickle\n",
    "import torch.nn.functional as F\n",
    "\n",
    "os.environ['TRANSFORMERS_CACHE'] = './cache/'\n",
    "os.environ['CUDA_LAUNCH_BLOCKING'] = '1'\n",
    "\n",
    "from src.dataset import *\n",
    "from src.utils   import *\n",
    "from src.traineval  import *\n",
    "\n",
    "torch.cuda.empty_cache()\n",
    "\n",
    "SEED = 42\n",
    "torch.manual_seed(SEED)\n",
    "torch.backends.cudnn.deterministic = True\n",
    "\n",
    "device = get_freer_gpu()\n",
    "print('device', device)"
   ]
  },
  {
   "cell_type": "code",
   "execution_count": 2,
   "id": "9812bbe3-ae79-4718-b720-0f2641bdf902",
   "metadata": {},
   "outputs": [],
   "source": [
    "masking_method       = 'keywords'\n",
    "keyword_name         = 'PROPprob' # 'NNprob', 'sumatt', 'logodds', 'tfidf', 'deplex', 'random'\n",
    "class_ratio          = 10"
   ]
  },
  {
   "cell_type": "code",
   "execution_count": 3,
   "id": "1aa83a38-4bf0-4c17-9419-f15d23910341",
   "metadata": {},
   "outputs": [],
   "source": [
    "train_dataset = pickle.load(open(f'../data/MASKER/MASKER-{keyword_name}-R{class_ratio}-train-ds.pkl', \"rb\"))"
   ]
  },
  {
   "cell_type": "code",
   "execution_count": 4,
   "id": "2ea5bfb8-230f-412a-a6e4-a7cd44bdf82a",
   "metadata": {},
   "outputs": [],
   "source": [
    "all_MKR_masked = []\n",
    "all_MER_masked = []\n",
    "\n",
    "for sample in train_dataset:\n",
    "    _, MKR_tokens, MER_tokens = sample['all_input_ids']\n",
    "    \n",
    "    MKR_masked = (MKR_tokens == 103).to(torch.int32)\n",
    "    MER_masked = (MER_tokens == 103)\n",
    "    \n",
    "    MKR_masked = (MKR_masked == 1).sum(dim=0)\n",
    "    # print(MKR_masked)\n",
    "    all_MKR_masked.append(MKR_masked)\n",
    "    \n",
    "    MER_masked = (MER_masked == 1).sum(dim=0)\n",
    "    # print(MER_masked)\n",
    "    all_MER_masked.append(MER_masked)\n",
    "    \n",
    "assert len(all_MER_masked) == len(all_MKR_masked)"
   ]
  },
  {
   "cell_type": "code",
   "execution_count": 5,
   "id": "fac33e6e-20f1-49ab-80e0-d65534599510",
   "metadata": {},
   "outputs": [
    {
     "name": "stdout",
     "output_type": "stream",
     "text": [
      "PROPprob\n",
      "15676\n",
      "MKR :  tensor(44.8998)\n",
      "MER :  tensor(414.1526)\n"
     ]
    }
   ],
   "source": [
    "print(keyword_name)\n",
    "\n",
    "print(len(all_MKR_masked))\n",
    "\n",
    "print(\"MKR : \", sum(all_MKR_masked)/len(all_MKR_masked))\n",
    "\n",
    "print(\"MER : \", sum(all_MER_masked)/len(all_MER_masked))"
   ]
  },
  {
   "cell_type": "markdown",
   "id": "1470e899-29f0-4989-b4a5-a21414abcbab",
   "metadata": {},
   "source": [
    "logodds\n",
    "\n",
    "        15676\n",
    "        MKR :  tensor(42.1538)\n",
    "        MER :  tensor(421.1065)"
   ]
  },
  {
   "cell_type": "markdown",
   "id": "03009136-e456-42cc-adc9-508c30cd980d",
   "metadata": {},
   "source": [
    "tfidf\n",
    "\n",
    "        15676\n",
    "        MKR :  tensor(21.3283)\n",
    "        MER :  tensor(439.8154)"
   ]
  },
  {
   "cell_type": "markdown",
   "id": "1a7f7c45-ed94-4bb1-b2ff-29d0262425a5",
   "metadata": {},
   "source": [
    "deplex\n",
    "\n",
    "        15676\n",
    "        MKR :  tensor(9.1795)\n",
    "        MER :  tensor(450.8094)"
   ]
  },
  {
   "cell_type": "markdown",
   "id": "3ce00140-aa0e-4d75-85f0-f333e5c7c1c1",
   "metadata": {},
   "source": [
    "TOP ATT\n",
    "\n",
    "        15676\n",
    "        MKR :  tensor(44.8998)\n",
    "        MER :  tensor(414.1526)\n"
   ]
  },
  {
   "cell_type": "markdown",
   "id": "6479f844-2012-4db5-b17d-64931d2cfb11",
   "metadata": {},
   "source": [
    "sumatt\n",
    "\n",
    "        15676\n",
    "        MKR :  tensor(103.2111)\n",
    "        MER :  tensor(366.0907)"
   ]
  },
  {
   "cell_type": "markdown",
   "id": "c463a048-c279-41b5-9d98-6311bb0eabc2",
   "metadata": {},
   "source": [
    "random\n",
    "\n",
    "        15676\n",
    "        MKR :  tensor(76.1192)\n",
    "        MER :  tensor(433.8808)"
   ]
  },
  {
   "cell_type": "markdown",
   "id": "8f42c912-455c-41a4-9236-830de67588e2",
   "metadata": {},
   "source": [
    "NNprob\n",
    "\n",
    "        15676\n",
    "        MKR :  tensor(8.7976)\n",
    "        MER :  tensor(450.2545)"
   ]
  }
 ],
 "metadata": {
  "kernelspec": {
   "display_name": "jakrapop_nlu",
   "language": "python",
   "name": "jakrapop_nlu"
  },
  "language_info": {
   "codemirror_mode": {
    "name": "ipython",
    "version": 3
   },
   "file_extension": ".py",
   "mimetype": "text/x-python",
   "name": "python",
   "nbconvert_exporter": "python",
   "pygments_lexer": "ipython3",
   "version": "3.9.4"
  }
 },
 "nbformat": 4,
 "nbformat_minor": 5
}
