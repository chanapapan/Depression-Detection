{
 "cells": [
  {
   "cell_type": "markdown",
   "metadata": {},
   "source": [
    "# MASKER KEYWORD - Attention\n",
    "\n",
    "### Top words by highest sum of attention score"
   ]
  },
  {
   "cell_type": "markdown",
   "metadata": {},
   "source": [
    "- load model classi ratio 1\n",
    "- dataset ratio 1"
   ]
  },
  {
   "cell_type": "code",
   "execution_count": 1,
   "metadata": {},
   "outputs": [
    {
     "name": "stdout",
     "output_type": "stream",
     "text": [
      "device cuda:0\n"
     ]
    }
   ],
   "source": [
    "from torch.utils.tensorboard import SummaryWriter\n",
    "from transformers import AutoModelForSequenceClassification\n",
    "\n",
    "from torch.utils.data import DataLoader\n",
    "from IPython.display import clear_output\n",
    "import torch.nn as nn\n",
    "import copy\n",
    "import sys, os\n",
    "sys.path.append('..')\n",
    "\n",
    "os.environ['TRANSFORMERS_CACHE'] = './cache/'\n",
    "os.environ['CUDA_LAUNCH_BLOCKING'] = '1'\n",
    "\n",
    "from src.dataset import *\n",
    "from src.utils   import *\n",
    "from src.traineval  import *\n",
    "\n",
    "SEED = 42\n",
    "torch.manual_seed(SEED)\n",
    "torch.backends.cudnn.deterministic = True\n",
    "\n",
    "device = get_freer_gpu()\n",
    "print('device', device)"
   ]
  },
  {
   "cell_type": "code",
   "execution_count": 2,
   "metadata": {},
   "outputs": [],
   "source": [
    "load_model_from    = '../save/BASE-classiCEr1/best-model-1500.tar'\n",
    "\n",
    "checkpoint         = 'bert-base-uncased'\n",
    "\n",
    "training_obj       = 'classiCE'\n",
    "masking_method     = None\n",
    "keyword_path       = None\n",
    "\n",
    "classifier_p_dropout = 0.1"
   ]
  },
  {
   "cell_type": "code",
   "execution_count": 3,
   "metadata": {},
   "outputs": [
    {
     "name": "stderr",
     "output_type": "stream",
     "text": [
      "Some weights of the model checkpoint at bert-base-uncased were not used when initializing BertForSequenceClassification: ['cls.predictions.transform.LayerNorm.weight', 'cls.predictions.bias', 'cls.seq_relationship.bias', 'cls.predictions.transform.dense.weight', 'cls.predictions.transform.LayerNorm.bias', 'cls.predictions.transform.dense.bias', 'cls.predictions.decoder.weight', 'cls.seq_relationship.weight']\n",
      "- This IS expected if you are initializing BertForSequenceClassification from the checkpoint of a model trained on another task or with another architecture (e.g. initializing a BertForSequenceClassification model from a BertForPreTraining model).\n",
      "- This IS NOT expected if you are initializing BertForSequenceClassification from the checkpoint of a model that you expect to be exactly identical (initializing a BertForSequenceClassification model from a BertForSequenceClassification model).\n",
      "Some weights of BertForSequenceClassification were not initialized from the model checkpoint at bert-base-uncased and are newly initialized: ['classifier.weight', 'classifier.bias']\n",
      "You should probably TRAIN this model on a down-stream task to be able to use it for predictions and inference.\n"
     ]
    },
    {
     "name": "stdout",
     "output_type": "stream",
     "text": [
      "Load from  ../save/BASE-classiCEr1/best-model-1500.tar\n",
      "<All keys matched successfully>\n"
     ]
    }
   ],
   "source": [
    "num_labels = 2 #CE\n",
    "model      = AutoModelForSequenceClassification.from_pretrained(checkpoint, num_labels = num_labels).to(device)\n",
    "model.classifier.dropout = nn.Dropout(p = classifier_p_dropout, inplace = False)\n",
    "\n",
    "\n",
    "print(\"Load from \", load_model_from)\n",
    "checkpoint = torch.load(load_model_from)\n",
    "model.load_state_dict(checkpoint['model_state_dict'])\n",
    "print(model.load_state_dict(checkpoint['model_state_dict']))\n",
    "\n",
    "from transformers import AutoTokenizer\n",
    "checkpoint   = 'bert-base-uncased'\n",
    "tokenizer    =  AutoTokenizer.from_pretrained(checkpoint)"
   ]
  },
  {
   "cell_type": "code",
   "execution_count": 4,
   "metadata": {},
   "outputs": [
    {
     "name": "stdout",
     "output_type": "stream",
     "text": [
      "tensor([  101,  2009, 28043,  2026,  2969, 19593,  2004,  2092,  2000,  2025,\n",
      "         2022,  2197,  1012,  1045,  2001,  7087,  6340,  1037,  2843,  1010,\n",
      "         2130,  2011,  2070,  1997,  1996,  3057,  2012,  2335,  2021,  2008,\n",
      "         2028,  2404,  1037,  1059, 24475,  1010,  1045,  1005,  1049,  2917,\n",
      "        18804,  5302, 14536, 24158,  1029,  2000,  1037,  2261,  1997,  1996,\n",
      "         4364,  1012,  1045,  2001,  2404,  4873,  1999,  1996,  2690,  2021,\n",
      "         2145,  1012,  1045,  2823,  2018, 11519, 12845,  2015,  1012,  2009,\n",
      "         2001,  2130,  6057,  2012,  2335,  2007,  2122, 12064,  2067,  1005,\n",
      "         1050,  1005, 15421,  2021,  2009,  2001,  2467,  1037, 18503,  1012,\n",
      "         2065,  2027,  2134,  1005,  1056,  2031,  1037, 12845,  2027,  2823,\n",
      "         2357,  3558,  2612,  1012,  1045,  2444,  1999,  5120,  1012,  1045,\n",
      "         2228,  2111, 28616, 20824, 21515,  2054,  1045,  2812,  2007,  3147,\n",
      "         1010,  1045,  2812,  2111,  2040, 19233,  4555,  8292,  4877,  4173,\n",
      "         2030,  2917,  2503,  1998,  8509,  1996,  1996, 10867, 28696,  2102,\n",
      "         9951,  2135,  2659,  1010,  2025,  2074,  3621,  2917,  3671,  1012,\n",
      "         1045,  2453,  2036,  2031, 28947,  1037,  2261, 21392, 27469,  2015,\n",
      "        12157,  2030,  2054,  2027,  2812,  2004,  2092,  2349,  2000,  2023,\n",
      "         1012,  1045,  2175,  4586, 21172,  1999,  1996,  3467,  2823,  2061,\n",
      "         2009,  1005,  1055,  2025,  2066,  1045,  2031,  2784,  7385, 12707,\n",
      "         5596,  2005,  1037,  2210,  2978,  1997, 23362,  2250,  2021,  2788,\n",
      "         2994,  2503,  2004,  2172,  2004,  1045,  2064,  2076,  1996,  3467,\n",
      "         2004,  2043,  1045,  2034,  2707, 12809,  2009,  3138,  2070,  2051,\n",
      "         2077,  1045,  2131,  4010,  2153,  1012,  1045,  2079,  2224,  2062,\n",
      "         4253,  2084,  2500,  2349,  2000,  2009,  2021,  2009,  1005,  1055,\n",
      "         2025,  2066,  1045, 17612,  2065,  7955,  2842,  2003,  2986,  2007,\n",
      "         1056,  3351,  4860,  1012,  2021,  2008,  2711,  1999,  1996,  2436,\n",
      "         2467,  5278,  1996,  1996, 10867, 28696,  2102,  2096,  3564,  1999,\n",
      "         1037, 14329,  5754, 27153,  2033,  1010,  2026,  2767, 21393,  8292,\n",
      "         4877,  4173,  2012,  2188,  2788,  3084,  2033,  5665,  2044,  1037,\n",
      "         2261,  2420,  2004,  1045,  6719,  2203,  2039, 12809,  2005,  2146,\n",
      "         6993,  1997,  2051,  2130,  2007, 14329, 19022,  5802,  3489,  3215,\n",
      "         1998,  4933,  1012,  2009,  1005,  1040,  2022,  3835,  2000,  2424,\n",
      "         1037,  2690,  2598,  1998,  6293,  2007,  2009,  2061,  1045,  2064,\n",
      "         2031,  2026, 12121, 14329,  2006,  1998,  2022,  2986,  2096,  2002,\n",
      "         7719,  1999,  1037, 24529, 11961,  2102,  1012,  1045,  3984,  2017,\n",
      "         2123,  1005,  1056,  2903,  2033,  1010,  1998,  2008,  1005,  1055,\n",
      "         2986,  1012,  1045,  2113,  1010,  1045,  9544,  2009,  1037,  3232,\n",
      "         5445,  4921,  2121,  3671,  2282,  4860,  1012,  2023, 12043,  1998,\n",
      "         2010,  2567,  2027,  9278,  2362,  2562,  1996,  3645,  2330,  2012,\n",
      "         9428,  2035,  2335,  1010,  2130,  2076,  1996,  3467,  1012,  2009,\n",
      "         1005,  1055,  2196,  2008,  3147,  1999,  1996,  2436,  2021,  2028,\n",
      "         1997,  1996,  2111,  2045,  7777,  2009,  3147,  1010,  5525,  2126,\n",
      "         2205,  3147,  2005,  2033,  2040,  7906,  1037, 14329,  2006,  2505,\n",
      "         2012,  2030,  3621,  2917,  3671,  8915,  8737,  1012,  1045,  1005,\n",
      "         1049, 25930,  2102,  1996,  2069,  2028,  2040,  1005,  1055, 10865,\n",
      "         2055,  2009,  2045,  2021,  2012,  2560,  2009,  1005,  1055,  2444,\n",
      "         3085,  1999,  7831,  1012,  1045,  2123,  1005,  1056,  2113,  2054,\n",
      "         4860,  1061,  1005,  2035,  2031,  1999,  2568,  2005,  2108,  3147,\n",
      "         2030, 23362,  2030,  9608,  2000,  6752,  2007,  1996,  1996, 10867,\n",
      "        28696,  2102,  2005,  2295,  1012,  2672,  1045,  1005,  1049,  2074,\n",
      "         4060,  2100,  2021,  2009,  2469,  2004,  3109, 19237,  2000, 13184,\n",
      "         2035,   102])\n",
      "tensor([-99999,      0,      1,      2,      3,      4,      5,      6,      7,\n",
      "             8,      9,     10,     11,     12,     13,     14,     14,     15,\n",
      "            16,     17,     18,     19,     20,     21,     22,     23,     24,\n",
      "            25,     26,     27,     28,     29,     30,     31,     31,     32,\n",
      "            33,     34,     35,     36,     37,     37,     37,     37,     38,\n",
      "            39,     40,     41,     42,     43,     44,     45,     46,     47,\n",
      "            48,     49,     50,     51,     52,     53,     54,     55,     56,\n",
      "            57,     58,     59,     60,     60,     61,     62,     63,     64,\n",
      "            65,     66,     67,     68,     69,     70,     71,     72,     73,\n",
      "            74,     75,     76,     77,     78,     79,     80,     81,     82,\n",
      "            83,     84,     85,     86,     87,     88,     89,     90,     91,\n",
      "            92,     93,     94,     95,     96,     97,     98,     99,    100,\n",
      "           101,    102,    103,    104,    105,    105,    105,    106,    107,\n",
      "           108,    109,    110,    111,    112,    113,    114,    115,    116,\n",
      "           117,    118,    118,    118,    119,    120,    121,    122,    123,\n",
      "           124,    125,    125,    125,    125,    126,    126,    127,    128,\n",
      "           129,    130,    131,    132,    133,    134,    135,    136,    137,\n",
      "           138,    139,    140,    141,    142,    142,    142,    143,    144,\n",
      "           145,    146,    147,    148,    149,    150,    151,    152,    153,\n",
      "           154,    155,    156,    156,    157,    158,    159,    160,    161,\n",
      "           162,    163,    164,    165,    166,    167,    168,    169,    170,\n",
      "           170,    170,    171,    172,    173,    174,    175,    176,    177,\n",
      "           178,    179,    180,    181,    182,    183,    184,    185,    186,\n",
      "           187,    188,    189,    190,    191,    192,    193,    194,    195,\n",
      "           196,    197,    198,    199,    200,    201,    202,    203,    204,\n",
      "           205,    206,    207,    208,    209,    210,    211,    212,    213,\n",
      "           214,    215,    216,    217,    218,    219,    220,    221,    222,\n",
      "           223,    224,    225,    226,    227,    228,    229,    230,    230,\n",
      "           231,    232,    233,    234,    235,    236,    237,    238,    239,\n",
      "           240,    241,    242,    242,    242,    242,    243,    244,    245,\n",
      "           246,    247,    248,    248,    249,    250,    251,    252,    253,\n",
      "           254,    254,    254,    255,    256,    257,    258,    259,    260,\n",
      "           261,    262,    263,    264,    265,    266,    267,    268,    269,\n",
      "           270,    271,    272,    273,    274,    275,    276,    277,    278,\n",
      "           278,    278,    278,    278,    279,    280,    281,    282,    283,\n",
      "           284,    285,    286,    287,    288,    289,    290,    291,    292,\n",
      "           293,    294,    295,    296,    297,    298,    299,    300,    301,\n",
      "           302,    303,    304,    305,    306,    307,    308,    309,    310,\n",
      "           311,    312,    312,    312,    313,    314,    315,    316,    317,\n",
      "           318,    319,    320,    321,    322,    323,    324,    325,    326,\n",
      "           327,    328,    329,    330,    331,    332,    333,    334,    335,\n",
      "           336,    337,    338,    338,    339,    340,    341,    342,    343,\n",
      "           344,    345,    346,    347,    348,    349,    350,    351,    352,\n",
      "           353,    354,    355,    356,    357,    358,    359,    360,    361,\n",
      "           362,    363,    364,    365,    366,    367,    368,    369,    370,\n",
      "           371,    372,    373,    374,    375,    376,    377,    378,    379,\n",
      "           380,    381,    382,    383,    384,    385,    386,    387,    388,\n",
      "           389,    390,    391,    392,    393,    394,    395,    396,    397,\n",
      "           398,    399,    400,    401,    401,    402,    403,    404,    405,\n",
      "           406,    406,    407,    408,    409,    410,    411,    412,    413,\n",
      "           414,    415,    416,    417,    418,    419,    420,    421,    422,\n",
      "           423,    423,    424,    425,    426,    427,    428,    429,    430,\n",
      "           431,    432,    433,    434,    435,    436,    437,    438,    439,\n",
      "           440,    441,    442,    443,    444,    445,    446,    447,    448,\n",
      "           449,    450,    451,    451,    451,    451,    452,    453,    454,\n",
      "           455,    456,    457,    458,    459,    460,    460,    461,    462,\n",
      "           463,    464,    465,    466,    467,    468,    469, -99999])\n",
      "tensor([1, 1, 1, 1, 1, 1, 1, 1, 1, 1, 1, 1, 1, 1, 1, 1, 1, 1, 1, 1, 1, 1, 1, 1,\n",
      "        1, 1, 1, 1, 1, 1, 1, 1, 1, 1, 1, 1, 1, 1, 1, 1, 1, 1, 1, 1, 1, 1, 1, 1,\n",
      "        1, 1, 1, 1, 1, 1, 1, 1, 1, 1, 1, 1, 1, 1, 1, 1, 1, 1, 1, 1, 1, 1, 1, 1,\n",
      "        1, 1, 1, 1, 1, 1, 1, 1, 1, 1, 1, 1, 1, 1, 1, 1, 1, 1, 1, 1, 1, 1, 1, 1,\n",
      "        1, 1, 1, 1, 1, 1, 1, 1, 1, 1, 1, 1, 1, 1, 1, 1, 1, 1, 1, 1, 1, 1, 1, 1,\n",
      "        1, 1, 1, 1, 1, 1, 1, 1, 1, 1, 1, 1, 1, 1, 1, 1, 1, 1, 1, 1, 1, 1, 1, 1,\n",
      "        1, 1, 1, 1, 1, 1, 1, 1, 1, 1, 1, 1, 1, 1, 1, 1, 1, 1, 1, 1, 1, 1, 1, 1,\n",
      "        1, 1, 1, 1, 1, 1, 1, 1, 1, 1, 1, 1, 1, 1, 1, 1, 1, 1, 1, 1, 1, 1, 1, 1,\n",
      "        1, 1, 1, 1, 1, 1, 1, 1, 1, 1, 1, 1, 1, 1, 1, 1, 1, 1, 1, 1, 1, 1, 1, 1,\n",
      "        1, 1, 1, 1, 1, 1, 1, 1, 1, 1, 1, 1, 1, 1, 1, 1, 1, 1, 1, 1, 1, 1, 1, 1,\n",
      "        1, 1, 1, 1, 1, 1, 1, 1, 1, 1, 1, 1, 1, 1, 1, 1, 1, 1, 1, 1, 1, 1, 1, 1,\n",
      "        1, 1, 1, 1, 1, 1, 1, 1, 1, 1, 1, 1, 1, 1, 1, 1, 1, 1, 1, 1, 1, 1, 1, 1,\n",
      "        1, 1, 1, 1, 1, 1, 1, 1, 1, 1, 1, 1, 1, 1, 1, 1, 1, 1, 1, 1, 1, 1, 1, 1,\n",
      "        1, 1, 1, 1, 1, 1, 1, 1, 1, 1, 1, 1, 1, 1, 1, 1, 1, 1, 1, 1, 1, 1, 1, 1,\n",
      "        1, 1, 1, 1, 1, 1, 1, 1, 1, 1, 1, 1, 1, 1, 1, 1, 1, 1, 1, 1, 1, 1, 1, 1,\n",
      "        1, 1, 1, 1, 1, 1, 1, 1, 1, 1, 1, 1, 1, 1, 1, 1, 1, 1, 1, 1, 1, 1, 1, 1,\n",
      "        1, 1, 1, 1, 1, 1, 1, 1, 1, 1, 1, 1, 1, 1, 1, 1, 1, 1, 1, 1, 1, 1, 1, 1,\n",
      "        1, 1, 1, 1, 1, 1, 1, 1, 1, 1, 1, 1, 1, 1, 1, 1, 1, 1, 1, 1, 1, 1, 1, 1,\n",
      "        1, 1, 1, 1, 1, 1, 1, 1, 1, 1, 1, 1, 1, 1, 1, 1, 1, 1, 1, 1, 1, 1, 1, 1,\n",
      "        1, 1, 1, 1, 1, 1, 1, 1, 1, 1, 1, 1, 1, 1, 1, 1, 1, 1, 1, 1, 1, 1, 1, 1,\n",
      "        1, 1, 1, 1, 1, 1, 1, 1, 1, 1, 1, 1, 1, 1, 1, 1, 1, 1, 1, 1, 1, 1, 1, 1,\n",
      "        1, 1, 1, 1, 1, 1, 1, 1])\n",
      "[CLS] it boosted my self esteem as well to not be last. i was bullied a lot, even by some of the girls at times but that one put a wtf, i'm below metamorphis? to a few of the guys. i was put somewhere in the middle but still. i sometimes had decent comebacks. it was even funny at times with these verbal back'n'forts but it was always a gamble. if they didn't have a comeback they sometimes turned physical instead. i live in norway. i think people misunderstand what i mean with cold, i mean people who prefers maximum celsius or below inside and puts the thermostat ridiculously low, not just slightly below normal. i might also have misunderstood a few peeoples preference or what they mean as well due to this. i go snowboarding in the winter sometimes so it's not like i have deep ragehatred for a little bit of chilled air but usually stay inside as much as i can during the winter as when i first start freezing it takes some time before i get warm again. i do use more clothes than others due to it but it's not like i complain if everybody else is fine with tge temperature. but that person in the office always changing the thermostat while sitting in a sweater annoys me, my friend preferring celsius at home usually makes me ill after a few days as i literally end up freezing for long periods of time even with sweatersblankets and stuff. it'd be nice to find a middle ground and stick with it so i can have my wool sweater on and be fine while he sits in a tshirt. i guess you don't believe me, and that's fine. i know, i prefer it a couple degrees iver normal room temperature. this dude and his brother they rent together keep the windows open at seemingly all times, even during the winter. it's never that cold in the office but one of the people there likes it cold, obviously way too cold for me who keeps a sweater on anything at or slightly below normal temp. i'm nkt the only one who's complained about it there but at least it's liveable in comparison. i don't know what temperature y'all have in mind for being cold or chilled or reasonable to mess with the thermostat for though. maybe i'm just picky but it sure as hell sucks to freeze all [SEP]\n",
      "1\n"
     ]
    }
   ],
   "source": [
    "train_dataset = pickle.load(open(f'../data/classi/classichunk-R1-train-ds.pkl', \"rb\"))\n",
    "\n",
    "for sample in train_dataset:\n",
    "    print(sample['input_ids'])\n",
    "    print(sample['word_ids'])\n",
    "    print(sample['attention_mask'])\n",
    "    print(sample['orig_text'])\n",
    "    print(sample['labels'])\n",
    "    break"
   ]
  },
  {
   "cell_type": "markdown",
   "metadata": {},
   "source": [
    "## Original Code"
   ]
  },
  {
   "cell_type": "code",
   "execution_count": 5,
   "metadata": {},
   "outputs": [],
   "source": [
    "# ORIGINAL CODE !!!\n",
    "def get_attention_keyword(dataset, model, tokenizer, device, num_kw):\n",
    "\n",
    "    loader = DataLoader(dataset, shuffle=False, batch_size = 16)\n",
    "\n",
    "    SPECIAL_TOKENS = tokenizer.all_special_ids\n",
    "    vocab_size = len(tokenizer)\n",
    "\n",
    "    attn_score = torch.zeros(vocab_size)\n",
    "    attn_freq  = torch.zeros(vocab_size)\n",
    "\n",
    "    for idx , batch in enumerate(loader):\n",
    "        \n",
    "        sys.stdout.write(str(idx))\n",
    "        \n",
    "        tokens   = batch['input_ids'].to(device)\n",
    "        word_ids = batch['word_ids']\n",
    "        labels   = batch['labels'].cpu()\n",
    "        \n",
    "        model.eval()\n",
    "        with torch.no_grad():\n",
    "            output    = model(tokens, output_attentions=True) # (batch_size, num_heads, sequence_length, sequence_length)           \n",
    "            attention = output.attentions[-1] # get attention of last layer (batch_size, num_heads, sequence_length, sequence_length)\n",
    "        \n",
    "        pred = torch.argmax(torch.softmax(output.logits.detach(), dim = 1), dim = 1).detach().cpu()\n",
    "        \n",
    "        correct_idx = (labels == pred).nonzero(as_tuple=True)[0].detach().cpu()\n",
    "        # print(correct_idx)\n",
    "        \n",
    "        correct_attention = torch.index_select(attention.clone().detach().cpu(), dim = 0 , index = correct_idx)\n",
    "        # print(correct_attention.shape)\n",
    "        \n",
    "        attention = correct_attention.sum(dim = 1) # sum over attention heads (batch_size, sequence_length, sequence_length)\n",
    "        \n",
    "        for  i in range(attention.size(0)):  # for each sample in batch\n",
    "            for j in range(attention.size(-1)):  # max_len\n",
    "                token = tokens[i][j].item()\n",
    "                \n",
    "                if token in SPECIAL_TOKENS:  # skip special token\n",
    "                    continue\n",
    "\n",
    "                score = attention[i][0][j]  # 1st token = CLS token\n",
    "\n",
    "                attn_score[token] += score.item()\n",
    "                attn_freq[token] += 1\n",
    "\n",
    "    for tok in range(vocab_size):\n",
    "        \n",
    "        if attn_freq[tok] < 10 : # if freq less than 10 REMOVE from the list !\n",
    "            attn_score[tok] = 0\n",
    "            \n",
    "        else:\n",
    "            attn_score[tok] /= attn_freq[tok]  # normalize by frequency\n",
    "\n",
    "    keyword = attn_score.argsort(descending=True)[:num_kw].tolist()\n",
    "\n",
    "    return keyword, attn_score, attn_freq"
   ]
  },
  {
   "cell_type": "code",
   "execution_count": 6,
   "metadata": {},
   "outputs": [
    {
     "name": "stdout",
     "output_type": "stream",
     "text": [
      "0123456789101112131415161718192021222324252627282930313233343536373839404142434445464748495051525354555657585960616263646566676869707172737475767778798081828384858687888990919293949596979899100101102103104105106107108109110111112113114115116117118119120121122123124125126127128129130131132133134135136137138139140141142143144145146147148149150151152153154155156157158159160161162163164165166167168169170171172173174175176177178179180181182183184185186187188189190191192193194195196197198199200201202203204205206207208209210211212213214215216217218219220221222223224225226227228229230231232233234235236237238239240241242243244245246247248249250251252253254255256257258259260261262263264265266267268269270271272273274275276277278279280281282283284285286287288289"
     ]
    }
   ],
   "source": [
    "keyword, attn_score, attn_freq = get_attention_keyword(train_dataset, model, tokenizer, device, num_kw = 3000)"
   ]
  },
  {
   "cell_type": "code",
   "execution_count": 7,
   "metadata": {},
   "outputs": [
    {
     "name": "stdout",
     "output_type": "stream",
     "text": [
      "3000\n"
     ]
    }
   ],
   "source": [
    "keywords = [tokenizer.decode([word]) for word in keyword]\n",
    "print(len(keywords))"
   ]
  },
  {
   "cell_type": "code",
   "execution_count": 8,
   "metadata": {},
   "outputs": [],
   "source": [
    "with open(\"./04-sum-attention-3000.txt\", \"w\") as f:\n",
    "    for word in keywords:\n",
    "        f.write(word + \"\\n\")"
   ]
  }
 ],
 "metadata": {
  "interpreter": {
   "hash": "a54ebe46dc67c0b0016e368835037c988a8dce633f341e79a61a84613b212514"
  },
  "kernelspec": {
   "display_name": "jakrapop_nlu",
   "language": "python",
   "name": "jakrapop_nlu"
  },
  "language_info": {
   "codemirror_mode": {
    "name": "ipython",
    "version": 3
   },
   "file_extension": ".py",
   "mimetype": "text/x-python",
   "name": "python",
   "nbconvert_exporter": "python",
   "pygments_lexer": "ipython3",
   "version": "3.9.4"
  }
 },
 "nbformat": 4,
 "nbformat_minor": 4
}
