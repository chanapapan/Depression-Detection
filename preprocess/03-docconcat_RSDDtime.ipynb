{
 "cells": [
  {
   "cell_type": "markdown",
   "metadata": {},
   "source": [
    "## Depression\n",
    "## Control"
   ]
  },
  {
   "cell_type": "markdown",
   "metadata": {},
   "source": [
    "# Select Class"
   ]
  },
  {
   "cell_type": "code",
   "execution_count": 4,
   "metadata": {},
   "outputs": [],
   "source": [
    "d_class      = 'depression' # 'depression'\n",
    "\n",
    "dataset_type = 'time'\n",
    "month        = 3"
   ]
  },
  {
   "cell_type": "code",
   "execution_count": 5,
   "metadata": {},
   "outputs": [
    {
     "name": "stdout",
     "output_type": "stream",
     "text": [
      "46892\n",
      "unique_user =  211\n"
     ]
    }
   ],
   "source": [
    "d1_text_path = f'data_{dataset_type}/{d_class}/finclean_{month}m_0529.txt'\n",
    "with open(d1_text_path) as text_file:\n",
    "    d1_text_all = text_file.readlines()\n",
    "    print(len(d1_text_all))\n",
    "    \n",
    "d1_user_path = f'data_{dataset_type}/{d_class}/user_id_{month}m.txt'\n",
    "with open(d1_user_path) as user_id:\n",
    "    d1_user_all = user_id.readlines()\n",
    "    d1_user_all = [int(x) for x in d1_user_all]\n",
    "    unique_user = [] \n",
    "    [unique_user.append(x) for x in d1_user_all if x not in unique_user]\n",
    "    print(\"unique_user = \", len(unique_user))    "
   ]
  },
  {
   "cell_type": "markdown",
   "metadata": {},
   "source": [
    "### CONCAT"
   ]
  },
  {
   "cell_type": "code",
   "execution_count": 6,
   "metadata": {},
   "outputs": [
    {
     "name": "stdout",
     "output_type": "stream",
     "text": [
      "less than 10 posts !\n",
      "less than 10 posts !\n",
      "less than 10 posts !\n",
      "less than 10 posts !\n",
      "less than 10 posts !\n",
      "less than 10 posts !\n",
      "less than 10 posts !\n",
      "less than 10 posts !\n",
      "less than 10 posts !\n",
      "less than 10 posts !\n",
      "less than 10 posts !\n",
      "less than 10 posts !\n",
      "less than 10 posts !\n",
      "less than 10 posts !\n",
      "less than 10 posts !\n",
      "less than 10 posts !\n",
      "less than 10 posts !\n",
      "less than 10 posts !\n",
      "less than 10 posts !\n",
      "192\n"
     ]
    }
   ],
   "source": [
    "# one line = all posts from one user\n",
    "count_users = 0\n",
    "\n",
    "d1_concat_path = f'data_{dataset_type}/{d_class}/concat_{month}m_0529.txt'\n",
    "\n",
    "with open(d1_concat_path, 'w') as d1_concat:\n",
    "    for user in unique_user:\n",
    "        # print(\"user_id = \", user)\n",
    "        \n",
    "        # Get all posts from this user \n",
    "        num_user_posts = len([i for i,x in enumerate(d1_user_all) if x == user])\n",
    "        \n",
    "        if num_user_posts < 10: # if the user has less than 10 psots in the past month, we do not include them in the dataset\n",
    "            print(\"less than 10 posts !\")\n",
    "            continue\n",
    "        \n",
    "        user_posts = [d1_text_all[i][:-1] for i,x in enumerate(d1_user_all) if x == user] # [:-1] bc not includeing \\n at the end of every line\n",
    "        # print(\"user_posts = \", user_posts)\n",
    "        \n",
    "        user_posts = ' '.join(user_posts)\n",
    "        # print(\"Joined user_post = \", user_posts)\n",
    "        \n",
    "        # remove space again\n",
    "        user_posts = ' '.join(user_posts.split())\n",
    "        # print(\"user_post again = \", user_posts)\n",
    "        \n",
    "        if len(user_posts) == 0: # if all tweets has len = 0\n",
    "            continue \n",
    "        \n",
    "        count_users += 1\n",
    "        \n",
    "        d1_concat.write(user_posts + \"\\n\")\n",
    "print(count_users)"
   ]
  }
 ],
 "metadata": {
  "interpreter": {
   "hash": "a54ebe46dc67c0b0016e368835037c988a8dce633f341e79a61a84613b212514"
  },
  "kernelspec": {
   "display_name": "Python 3",
   "language": "python",
   "name": "python3"
  },
  "language_info": {
   "codemirror_mode": {
    "name": "ipython",
    "version": 3
   },
   "file_extension": ".py",
   "mimetype": "text/x-python",
   "name": "python",
   "nbconvert_exporter": "python",
   "pygments_lexer": "ipython3",
   "version": "3.9.4"
  }
 },
 "nbformat": 4,
 "nbformat_minor": 4
}
